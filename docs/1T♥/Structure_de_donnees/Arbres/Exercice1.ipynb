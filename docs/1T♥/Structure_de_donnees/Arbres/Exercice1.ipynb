{
 "cells": [
  {
   "cell_type": "markdown",
   "metadata": {},
   "source": [
    "# EXERCICE 1\n",
    "\n",
    "### 1.\n",
    "#### a) Il y a **9** feuilles qui ont pour valeurs, **18 15 23 13 val 19 32 12 21**.\n",
    "#### b) C'est le **19**.\n",
    "#### c) L'arbre a pour hauteur **4** et a une taille de **9**.\n",
    "#### d) Le noeud peut prendre deux valeurs : **16 17**.\n",
    "\n",
    "### 2. \n",
    "#### b) Parcours infixe : **12 13 15 16 18 21 19 23 32**.\n",
    "#### c) Parcours postfixe : **12 13 16 15 21 19 32 23 18**\n",
    "\n",
    "### 3.\n",
    "#### a)     \n",
    "            18\n",
    "           /  \\\n",
    "         12    19\n",
    "          \\      \\\n",
    "          13      21\n",
    "            \\       \\\n",
    "            15       32\n",
    "             \\      /\n",
    "             16    23\n",
    "\n",
    "#### b) \n",
    "```py\n",
    "racine = Noeud(18)\n",
    "racine.insere_tout([15, 13, 12, 16, 23, 19, 21, 32])\n",
    "```"
   ]
  },
  {
   "cell_type": "code",
   "execution_count": 4,
   "metadata": {},
   "outputs": [],
   "source": [
    "class Noeud():\n",
    "    def __init__(self, v):\n",
    "        self.ag = None\n",
    "        self.ad = None\n",
    "        self.v = v\n",
    "    def insere(self, v):\n",
    "        n = self\n",
    "        est_insere = False\n",
    "        while not est_insere :\n",
    "            if v == n.v:\n",
    "                est_insere = True\n",
    "            elif v < n.v:\n",
    "                if n.ag != None:\n",
    "                    n = n.ag\n",
    "                else:\n",
    "                    n.ag = Noeud(v)\n",
    "                    est_insere = True\n",
    "            else:\n",
    "                if n.ad != None:\n",
    "                    n = n.ad\n",
    "                else:\n",
    "                    n.ad = Noeud(v)\n",
    "                    est_insere = True\n",
    "    def insere_tout(self, vals):\n",
    "        for v in vals:\n",
    "            self.insere(v)\n",
    "\n"
   ]
  },
  {
   "cell_type": "code",
   "execution_count": 5,
   "metadata": {},
   "outputs": [],
   "source": [
    "racine = Noeud(18)\n",
    "racine.insere_tout([12, 13, 15, 16, 19, 21, 32, 23])"
   ]
  }
 ],
 "metadata": {
  "kernelspec": {
   "display_name": "Python 3",
   "language": "python",
   "name": "python3"
  },
  "language_info": {
   "codemirror_mode": {
    "name": "ipython",
    "version": 3
   },
   "file_extension": ".py",
   "mimetype": "text/x-python",
   "name": "python",
   "nbconvert_exporter": "python",
   "pygments_lexer": "ipython3",
   "version": "3.10.8"
  }
 },
 "nbformat": 4,
 "nbformat_minor": 2
}
