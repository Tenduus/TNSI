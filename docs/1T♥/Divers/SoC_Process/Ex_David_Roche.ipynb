{
 "cells": [
  {
   "cell_type": "markdown",
   "metadata": {},
   "source": [
    "<div style=\"padding:10px ;border:solid 4px lightblue; border-radius: 10px; background-color:aliceblue;\">\n",
    "\n",
    "### Exercice 1"
   ]
  },
  {
   "cell_type": "markdown",
   "metadata": {},
   "source": [
    "**PID** : 2\n",
    "**PPID** : 1 "
   ]
  },
  {
   "cell_type": "markdown",
   "metadata": {},
   "source": [
    "<div style=\"padding:10px ;border:solid 4px lightblue; border-radius: 10px; background-color:aliceblue;\">\n",
    "\n",
    "### Exercice 2"
   ]
  },
  {
   "cell_type": "markdown",
   "metadata": {},
   "source": [
    "nsi@LYCPC04-03-18:~$ ps -aef\n",
    "UID        PID  PPID  C STIME TTY          TIME CMD\n",
    "root         1     0  0 10:14 ?        00:00:00 /init\n",
    "root       112     1  0 10:14 ?        00:00:00 /init\n",
    "root       113   112  0 10:14 ?        00:00:00 /init\n",
    "root       114   113  0 10:14 pts/0    00:00:00 /mnt/wsl/docker-desktop/docker-desktop-proxy --distro-name Ubuntu --dock\n",
    "root       125   112  0 10:14 ?        00:00:00 /init\n",
    "nsi        126   125  0 10:14 pts/1    00:00:00 docker serve --address unix:///home/nsi/.docker/run/docker-cli-api.sock\n",
    "root       150     1  0 10:59 ?        00:00:00 /init\n",
    "root       151   150  0 10:59 ?        00:00:00 /init\n",
    "nsi        152   151  0 10:59 pts/2    00:00:00 -bash\n",
    "nsi        217   152  0 11:00 pts/2    00:00:00 ps -aef"
   ]
  },
  {
   "cell_type": "markdown",
   "metadata": {},
   "source": [
    "<div style=\"padding:10px ;border:solid 4px lightblue; border-radius: 10px; background-color:aliceblue;\">\n",
    "\n",
    "### Exercice 3"
   ]
  },
  {
   "cell_type": "markdown",
   "metadata": {},
   "source": [
    "top - 11:03:16 up 48 min,  0 users,  load average: 0.02, 0.01, 0.00\n",
    "Tasks:  10 total,   1 running,   9 sleeping,   0 stopped,   0 zombie\n",
    "%Cpu(s):  0.0 us,  0.0 sy,  0.0 ni,100.0 id,  0.0 wa,  0.0 hi,  0.0 si,  0.0 st\n",
    "MiB Mem :  12734.5 total,  11103.5 free,    567.6 used,   1063.4 buff/cache\n",
    "MiB Swap:   4096.0 total,   4096.0 free,      0.0 used.  11557.2 avail Mem\n",
    "\n",
    "  PID USER      PR  NI    VIRT    RES    SHR S  %CPU  %MEM     TIME+ COMMAND\n",
    "    1 root      20   0     908    532    472 S   0.0   0.0   0:00.01 init\n",
    "  112 root      20   0     908     80     20 S   0.0   0.0   0:00.00 init\n",
    "  113 root      20   0     908     80     20 S   0.0   0.0   0:00.01 init\n",
    "  114 root      20   0 1458104  29932  12956 S   0.0   0.2   0:00.55 docker-desktop-\n",
    "  125 root      20   0     908     80     20 S   0.0   0.0   0:00.00 init\n",
    "  126 nsi       20   0  764520  47064  29920 S   0.0   0.4   0:00.90 docker\n",
    "  220 root      20   0     908     80     20 S   0.0   0.0   0:00.00 init\n",
    "  221 root      20   0     908     80     20 S   0.0   0.0   0:00.00 init\n",
    "  222 nsi       20   0   10036   5004   3304 S   0.0   0.0   0:00.02 bash\n",
    "  235 nsi       20   0   10876   3612   3100 R   0.0   0.0   0:00.00 top"
   ]
  },
  {
   "cell_type": "markdown",
   "metadata": {},
   "source": [
    "<div style=\"padding:10px ;border:solid 4px lightblue; border-radius: 10px; background-color:aliceblue;\">\n",
    "\n",
    "### Exercice 4"
   ]
  },
  {
   "cell_type": "markdown",
   "metadata": {},
   "source": [
    "Un nouveau processus est ajouté/supprimé dans le tableau."
   ]
  }
 ],
 "metadata": {
  "language_info": {
   "name": "python"
  }
 },
 "nbformat": 4,
 "nbformat_minor": 2
}
