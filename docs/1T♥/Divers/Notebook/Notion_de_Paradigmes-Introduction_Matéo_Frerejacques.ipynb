{
 "cells": [
  {
   "attachments": {},
   "cell_type": "markdown",
   "metadata": {},
   "source": [
    "# Paradigmes de programmation\n",
    "\n",
    "\n",
    "Il existe de nombreuses façons de programmer une machine, différents schéma de pensée qui sont apparus et ont évolués au cours du temps, ce sont les **[paradigmes de programmation](https://fr.wikipedia.org/wiki/Paradigme_(programmation))**.\n",
    "\n",
    "\n",
    "Les langages de programmation sont nombreux et variés.\n",
    "Il n’est pas inusuel qu’un langage appartienne à plusieurs de ces paradigmes, c’est par exemple le cas de Python.\n",
    "\n",
    "Certains de ces paradigmes sont mieux adaptés que d’autres pour traiter des problèmes spécifiques.\n",
    "On verra aussi ultérieurement qu’il est possible d’utiliser plusieurs paradigmes à l’intérieur d’un même programme.\n",
    "\n",
    "Les paradigmes principaux sont impératif, objet, fonctionnel..."
   ]
  },
  {
   "cell_type": "code",
   "execution_count": 1,
   "metadata": {},
   "outputs": [
    {
     "data": {
      "text/html": [
       "<center>\n",
       "<iframe width=\"560\" height=\"315\" src=\"https://www.youtube.com/embed/5D7Shf9nG0Q\" frameborder=\"0\" allow=\"accelerometer; autoplay; encrypted-media; gyroscope; picture-in-picture\" allowfullscreen></iframe>\n",
       "</center>\n"
      ],
      "text/plain": [
       "<IPython.core.display.HTML object>"
      ]
     },
     "metadata": {},
     "output_type": "display_data"
    }
   ],
   "source": [
    "%%HTML\n",
    "<center>\n",
    "<iframe width=\"560\" height=\"315\" src=\"https://www.youtube.com/embed/5D7Shf9nG0Q\" frameborder=\"0\" allow=\"accelerometer; autoplay; encrypted-media; gyroscope; picture-in-picture\" allowfullscreen></iframe>\n",
    "</center>"
   ]
  },
  {
   "attachments": {},
   "cell_type": "markdown",
   "metadata": {},
   "source": [
    "> [Vidéo complémentaire à voir aussi](https://youtu.be/3S1iPJJ-lPA)"
   ]
  },
  {
   "attachments": {},
   "cell_type": "markdown",
   "metadata": {},
   "source": [
    "## Programmation impérative :\n",
    "\n",
    "Le paradigme sinon le plus ancien, tout au moins le plus traditionnel, est le **paradigme impératif**.\n",
    "\n",
    "Les premiers programmes ont été conçus sur ce principe :\n",
    "\n",
    "- Une suite d’instructions qui s’exécutent séquentiellement, les unes après les autres ;\n",
    "\n",
    "    Ces instructions comportent :\n",
    "    - Affectations\n",
    "    - Boucles (pour.., tant que…, répéter…jusqu’à…)\n",
    "    - Conditions (si…sinon)\n",
    "    - Branchement/saut sans condition\n",
    "    \n",
    "    \n",
    "- La programmation impérative actuelle limite autant que possible les sauts sans condition. Ce sous-paradigme est appelé **programmation structurée** :\n",
    "    \n",
    "    Les sauts sont utilisés en assembleur (instructions BR adr, « branch vers adresse » ).\n",
    "    \n",
    "    En Python, on limite ainsi l’utilisation du `break` à certains cas particuliers.\n",
    "    \n",
    "    A l’inverse, une programmation utilisant de nombreux sauts est qualifié de « programmation spaghetti », pour la « clarté » toute relative avec laquelle on peut le dérouler. Certains langages conduisent facilement  à ce style de code (BASIC, FORTRAN,…)\n",
    "    \n",
    "    \n",
    "- L’usage des fonctions comme vu en première est aussi une variante de la programmation impérative, appelée **programmation procédurale**.\n",
    "    Elle permet de mieux suivre l’exécution d’un programme, de le rendre plus facile à concevoir et à maintenir, et aussi d’utiliser des bibliothèques."
   ]
  },
  {
   "attachments": {},
   "cell_type": "markdown",
   "metadata": {},
   "source": [
    "## Rappels de programmation impérative structurée et procédurale en Python...\n",
    "\n",
    "<h3 class='fa fa-code' style=\"color: darkorange\"> Activités de rappels à faire :</h3>\n",
    "\n",
    "### Exercice : Série de notes\n",
    "Écrire un programme qui permet :\n",
    "- de demander à l’utilisateur combien de notes il souhaite saisir → [ n ]\n",
    "- de saisir les [ n ] notes comprise entre [ 0 ; 20 ]\n",
    "- d’afficher la note la plus faible et la note la plus élevée\n",
    "- de calculer la moyenne\n",
    "\n",
    "### TP : Clé de vérification du code ISBN d’un livre\n",
    "\n",
    "A l'aide du [document ressource](https://ericecmorlaix.github.io/pdf/res_ISBN.pdf), écrire un programme qui vérifie que le code ISBN saisi ne contient pas d’erreur...\n"
   ]
  },
  {
   "cell_type": "code",
   "execution_count": 2,
   "metadata": {},
   "outputs": [],
   "source": [
    "def demande_entier():\n",
    "    nb_note = int(input(\"Veuillez indiquer le nombre de notes : \")) # Demande le nombre de notes\n",
    "    return nb_note"
   ]
  },
  {
   "cell_type": "code",
   "execution_count": 3,
   "metadata": {},
   "outputs": [],
   "source": [
    "def demande_note(nb_note):\n",
    "    tab_notes = []  # Créez une liste vide\n",
    "\n",
    "    for i in range(nb_note):\n",
    "        while True:\n",
    "            note = float(input(\"Indiquez une note : \"))\n",
    "            if 0 <= note <= 20:\n",
    "                tab_notes.append(note)  # Ajoutez la note valide à la liste\n",
    "                break\n",
    "            else:\n",
    "                print(\"Veuillez indiquer une note comprise entre 0 et 20.\") # message en cas de non conformité\n",
    "\n",
    "    return tab_notes  # Retournez la liste des notes"
   ]
  },
  {
   "cell_type": "code",
   "execution_count": 4,
   "metadata": {},
   "outputs": [],
   "source": [
    "def trouver_min_et_max_notes(notes):\n",
    "    if not notes:\n",
    "        print(\"Aucune note à afficher.\")\n",
    "    else:\n",
    "        min_note = max_note = notes[0]  # Initialisez min_note et max_note avec la première note\n",
    "\n",
    "        for i in range(1, len(notes)): \n",
    "            if notes[i] < min_note:\n",
    "                min_note = notes[i]\n",
    "            elif notes[i] > max_note:\n",
    "                max_note = notes[i]\n",
    "\n",
    "        return min_note, max_note  # Retourne les notes minimale et maximale\n"
   ]
  },
  {
   "cell_type": "code",
   "execution_count": 5,
   "metadata": {},
   "outputs": [],
   "source": [
    "def calculer_moyenne(notes):\n",
    "    if not notes:\n",
    "        print(\"Aucune note à calculer.\")\n",
    "        return None\n",
    "    else:\n",
    "        somme = 0\n",
    "\n",
    "        for note in notes:\n",
    "            somme += note  # Ajoutez chaque note à la somme\n",
    "\n",
    "        moyenne = somme / len(notes)  # Calculez la moyenne\n",
    "\n",
    "        return moyenne  # Retourne la moyenne"
   ]
  },
  {
   "cell_type": "code",
   "execution_count": 6,
   "metadata": {},
   "outputs": [
    {
     "name": "stdout",
     "output_type": "stream",
     "text": [
      "Les notes saisies sont : [12.0, 13.5, 9.0, 8.0, 19.0, 11.0, 14.0, 14.0, 12.0, 10.0]\n",
      "Note minimale : 8.0\n",
      "Note maximale : 19.0\n",
      "Moyenne des notes : 12.25\n"
     ]
    }
   ],
   "source": [
    "# Test du programme \n",
    "nombre_notes = demande_entier()\n",
    "\n",
    "notes_saisies = demande_note(nombre_notes)\n",
    "\n",
    "print(\"Les notes saisies sont :\", notes_saisies)\n",
    "\n",
    "min_note, max_note = trouver_min_et_max_notes(notes_saisies)\n",
    "print(f\"Note minimale : {min_note}\")\n",
    "print(f\"Note maximale : {max_note}\")\n",
    "\n",
    "moyenne = calculer_moyenne(notes_saisies)\n",
    "if moyenne is not None:\n",
    "    print(f\"Moyenne des notes : {moyenne:.2f}\")\n"
   ]
  },
  {
   "attachments": {},
   "cell_type": "markdown",
   "metadata": {},
   "source": [
    "****\n",
    "## Références aux programmes :\n",
    "\n",
    "<style type=\"text/css\">\n",
    ".tg  {border-collapse:collapse;border-spacing:0;}\n",
    ".tg td{font-family:Arial, sans-serif;font-size:14px;padding:10px 5px;border-style:solid;border-width:1px;overflow:hidden;word-break:normal;border-color:black;}\n",
    ".tg th{font-family:Arial, sans-serif;font-size:14px;font-weight:normal;padding:10px 5px;border-style:solid;border-width:1px;overflow:hidden;word-break:normal;border-color:black;}\n",
    ".tg .tg-cv16{font-weight:bold;background-color:#dae8fc;border-color:inherit;text-align:center}\n",
    ".tg .tg-xldj{border-color:inherit;text-align:left}\n",
    "</style>\n",
    "\n",
    "<h3>Langages et programmation</h3> \n",
    "<table class=\"tg\">\n",
    "  <tr>\n",
    "    <th class=\"tg-cv16\">Contenus</th>\n",
    "    <th class=\"tg-cv16\">Capacités attendues</th>\n",
    "    <th class=\"tg-cv16\">Commentaires</th>\n",
    "  </tr>\n",
    "  <tr>\n",
    "    <td class=\"tg-xldj\">Paradigmes de\n",
    "programmation.</td>\n",
    "    <td class=\"tg-xldj\">Distinguer sur des exemples les paradigmes impératif, fonctionnel et objet.<br>Choisir le paradigme de programmation selon le champ d’application d’un programme.</td>\n",
    "    <td class=\"tg-xldj\">Avec un même langage de programmation, on peut utiliser des paradigmes différents. Dans un même programme, on peut utiliser des paradigmes différents.</td>\n",
    "  </tr>\n",
    " </table>"
   ]
  }
 ],
 "metadata": {
  "kernelspec": {
   "display_name": "Python 3.10.1 64-bit",
   "language": "python",
   "name": "python3"
  },
  "language_info": {
   "codemirror_mode": {
    "name": "ipython",
    "version": 3
   },
   "file_extension": ".py",
   "mimetype": "text/x-python",
   "name": "python",
   "nbconvert_exporter": "python",
   "pygments_lexer": "ipython3",
   "version": "3.10.8"
  },
  "toc": {
   "base_numbering": 1,
   "nav_menu": {},
   "number_sections": true,
   "sideBar": true,
   "skip_h1_title": false,
   "title_cell": "Table of Contents",
   "title_sidebar": "Contents",
   "toc_cell": false,
   "toc_position": {},
   "toc_section_display": true,
   "toc_window_display": false
  },
  "varInspector": {
   "cols": {
    "lenName": 16,
    "lenType": 16,
    "lenVar": 40
   },
   "kernels_config": {
    "python": {
     "delete_cmd_postfix": "",
     "delete_cmd_prefix": "del ",
     "library": "var_list.py",
     "varRefreshCmd": "print(var_dic_list())"
    },
    "r": {
     "delete_cmd_postfix": ") ",
     "delete_cmd_prefix": "rm(",
     "library": "var_list.r",
     "varRefreshCmd": "cat(var_dic_list()) "
    }
   },
   "types_to_exclude": [
    "module",
    "function",
    "builtin_function_or_method",
    "instance",
    "_Feature"
   ],
   "window_display": false
  },
  "vscode": {
   "interpreter": {
    "hash": "c813da0d88532624e95401f841607d640ef6d724b81c00ab0d0885f617a921c3"
   }
  }
 },
 "nbformat": 4,
 "nbformat_minor": 4
}
