{
 "cells": [
  {
   "cell_type": "code",
   "execution_count": 1,
   "metadata": {},
   "outputs": [],
   "source": [
    "delannoy_mem = dict()\n",
    "\n",
    "\n",
    "def delannoy(n, m):\n",
    "    if (n, m) not in delannoy_mem:\n",
    "        if (n == 0) or (m == 0):\n",
    "            resultat = 1\n",
    "        else:\n",
    "            resultat = delannoy(n - 1, m) + delannoy(n, m - 1) + delannoy(n - 1, m - 1)\n",
    "        delannoy_mem[(n, m)] = resultat\n",
    "    return delannoy_mem[(n, m)]\n",
    "\n",
    "# Tests\n",
    "\n",
    "assert delannoy(3, 3) == 63\n",
    "assert delannoy(2, 1) == 5"
   ]
  },
  {
   "cell_type": "markdown",
   "metadata": {},
   "source": []
  },
  {
   "cell_type": "code",
   "execution_count": null,
   "metadata": {},
   "outputs": [],
   "source": [
    "#Gloutons : \n",
    "\"\"\"\n",
    "Exercice rendu de monnaies qui prend en paramètre \n",
    "un entier positif\n",
    "\"\"\"\n",
    "PIECES = [100, 50, 20, 10, 5, 2, 1]\n",
    "\n",
    "def rendu_monnaie(a_rendre, i=0):\n",
    "    if a_rendre == 0:\n",
    "        return []\n",
    "    p = PIECES[i]\n",
    "    if p <= a_rendre:\n",
    "        return [p] + rendu_monnaie(a_rendre - p, i)\n",
    "    else:\n",
    "        return rendu_monnaie(a_rendre, i + 1)\n",
    "\n",
    "# Tests\n",
    "assert rendu_monnaie(68) == [50, 10, 5, 2, 1]\n",
    "assert rendu_monnaie(291) == [100, 100, 50, 20, 20, 1]\n"
   ]
  }
 ],
 "metadata": {
  "kernelspec": {
   "display_name": "Python 3",
   "language": "python",
   "name": "python3"
  },
  "language_info": {
   "codemirror_mode": {
    "name": "ipython",
    "version": 3
   },
   "file_extension": ".py",
   "mimetype": "text/x-python",
   "name": "python",
   "nbconvert_exporter": "python",
   "pygments_lexer": "ipython3",
   "version": "3.10.8"
  }
 },
 "nbformat": 4,
 "nbformat_minor": 2
}
