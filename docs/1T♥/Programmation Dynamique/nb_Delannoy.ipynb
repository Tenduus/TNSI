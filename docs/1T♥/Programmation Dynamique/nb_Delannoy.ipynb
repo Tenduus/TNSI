{
 "cells": [
  {
   "cell_type": "code",
   "execution_count": 1,
   "metadata": {},
   "outputs": [],
   "source": [
    "delannoy_mem = dict()\n",
    "\n",
    "\n",
    "def delannoy(n, m):\n",
    "    if (n, m) not in delannoy_mem:\n",
    "        if (n == 0) or (m == 0):\n",
    "            resultat = 1\n",
    "        else:\n",
    "            resultat = delannoy(n - 1, m) + delannoy(n, m - 1) + delannoy(n - 1, m - 1)\n",
    "        delannoy_mem[(n, m)] = resultat\n",
    "    return delannoy_mem[(n, m)]\n",
    "\n",
    "# Tests\n",
    "\n",
    "assert delannoy(3, 3) == 63\n",
    "assert delannoy(2, 1) == 5"
   ]
  },
  {
   "cell_type": "markdown",
   "metadata": {},
   "source": [
    "-Mémorisation des résultats intermédiaires : Le dictionnaire delannoy_mem est utilisé pour stocker les résultats des appels récursifs déjà calculés.\n",
    "-Condition de base : Si n ou m est nul (n == 0 ou m == 0), il n'y a qu'un seul chemin possible (en ligne droite), donc le résultat est 1.\n",
    "-Cas général : Si ni n ni m ne sont nuls, le nombre de chemins allant de (0, 0) à (n, m) est la somme des chemins provenant de (n-1, m), (n, m-1) et (n-1, m-1).\n",
    "-Mémorisation du résultat : Le résultat est mémorisé dans delannoy_mem pour éviter des calculs redondants futurs.\n",
    "-Retour du résultat mémorisé : La fonction retourne le résultat mémorisé."
   ]
  }
 ],
 "metadata": {
  "kernelspec": {
   "display_name": "Python 3",
   "language": "python",
   "name": "python3"
  },
  "language_info": {
   "codemirror_mode": {
    "name": "ipython",
    "version": 3
   },
   "file_extension": ".py",
   "mimetype": "text/x-python",
   "name": "python",
   "nbconvert_exporter": "python",
   "pygments_lexer": "ipython3",
   "version": "3.10.8"
  }
 },
 "nbformat": 4,
 "nbformat_minor": 2
}
