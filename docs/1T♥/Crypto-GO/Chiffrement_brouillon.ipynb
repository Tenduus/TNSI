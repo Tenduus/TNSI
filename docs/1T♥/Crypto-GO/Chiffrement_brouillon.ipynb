{
 "cells": [
  {
   "cell_type": "markdown",
   "metadata": {},
   "source": [
    "# Le Chiffre de Vernam"
   ]
  },
  {
   "cell_type": "markdown",
   "metadata": {},
   "source": [
    "Le **masque jetable**, également appelé **chiffre de Vernam**, est un algorithme de cryptographie inventé par Gilbert Vernam en **1917**\n",
    " et perfectionné par Joseph Mauborgne, qui rajouta la notion de clé aléatoire.\n",
    "\n",
    "Le chiffrement par la méthode du masque jetable consiste à combiner le message en clair avec une clé présentant les caractéristiques très particulières suivantes :\n",
    "\n",
    "- La clé doit être une suite de caractères au moins aussi longue que le message à chiffrer.\n",
    "- Les caractères composant la clé doivent être choisis de façon totalement aléatoire.\n",
    "- Chaque clé, ou « masque », ne doit être utilisée qu'une seule fois (d'où le nom de masque jetable)."
   ]
  },
  {
   "cell_type": "markdown",
   "metadata": {},
   "source": [
    "### Fonctionnement \n",
    "\n",
    "1. **Génération de la clé** : Pour commencer, une clé secrète de la même longueur que le message à chiffrer est générée. Cette clé est composée de bits aléatoires ou pseudo-aléatoires.\n",
    "\n",
    "2. **Chiffrement** : Le message original est représenté sous forme binaire, de même que la clé. Pour chiffrer le message, chaque bit du message original est combiné avec le bit correspondant de la clé en utilisant l'opération de XOR. Si les deux bits sont identiques, le résultat est 0 ; s'ils sont différents, le résultat est 1. Le message chiffré est ensuite transmis.\n",
    "\n",
    "3. **Déchiffrement** : Pour déchiffrer le message, le même processus est appliqué. Chaque bit du message chiffré est combiné avec le bit correspondant de la clé en utilisant l'opération de XOR. Comme l'opération de XOR est son propre inverse (A XOR B XOR B = A), le résultat est le message original.\n",
    "\n",
    "L'opération de XOR est choisie pour plusieurs raisons dans le chiffrement de Vernam :\n",
    "\n",
    "- **Simplicité** : L'opération de XOR est simple à calculer et rapide à exécuter, ce qui en fait un choix efficace pour le chiffrement.\n",
    "\n",
    "- **Réversibilité** : Comme mentionné, l'opération de XOR est son propre inverse, ce qui facilite le processus de déchiffrement.\n",
    "\n",
    "- **Propriétés mathématiques** : L'opération de XOR possède des propriétés intéressantes qui la rendent utile en cryptographie, notamment sa linéarité (f(x XOR y) = f(x) XOR f(y)) et sa non-linéarité, en fonction du contexte.\n",
    "\n",
    "Le chiffrement de Vernam est considéré comme inviolable s'il est correctement implémenté avec une clé aléatoire ou pseudo-aléatoire de la même longueur que le message et utilisée une seule fois (OTP - One-Time Pad). Cependant, la gestion de clés pour OTP reste un défi important dans la pratique."
   ]
  },
  {
   "cell_type": "code",
   "execution_count": 2,
   "metadata": {},
   "outputs": [],
   "source": [
    "from random import randint\n",
    "\n",
    "#Crée une clé aléatoire de la même taille que le message\n",
    "#Entrée : message sous la forme d'une série de bits\n",
    "def generation_cle(message) :\n",
    "    longueur = len(message)\n",
    "    # création de la clé par compréhension\n",
    "    cle = [randint(0, 1) for _ in range(longueur)]\n",
    "    return cle\n",
    "\n",
    "#Génère une suite de bits à partir d'une chaine de caractères\n",
    "def message_en_binaire(message):\n",
    "    message_binaire = []\n",
    "    for caractere in message :\n",
    "        message_binaire += conv_bin(ord(caractere))\n",
    "    return message_binaire\n",
    "\n",
    "# Convertie un message clair\n",
    "def cryptage_Vernam(message):\n",
    "    #on transforme la chaine de caractères en suite de bits\n",
    "    message_binaire = message_en_binaire(message)\n",
    "    #Génération d'une clé de même longueur\n",
    "    cle = generation_cle(message_binaire)\n",
    "    message_crypte = []\n",
    "\n",
    "    #on réalise le cryptage par une opération bit à bit\n",
    "    for i in range(len(message_binaire)):\n",
    "        bit_crypte = message_binaire[i] ^ cle[i]\n",
    "        message_crypte.append(bit_crypte)\n",
    "\n",
    "    return cle, message_crypte\n",
    "\n",
    "#Convertie un nombre binaire sous 8 bits en entier\n",
    "def conv_dec(binaire):\n",
    "    nombre = 0\n",
    "    for i in range(8):\n",
    "        exposant = 7 - i\n",
    "        nombre += binaire[i]*2**exposant\n",
    "    return nombre\n",
    "\n",
    "#def conv_bin(caractere):\n",
    "    # Convertir le caractère en binaire sur 8 bits\n",
    "    binaire_str = bin(caractere)[2:]  \n",
    "    binaire = [int(bit) for bit in binaire_str.zfill(8)]  \n",
    "    return binaire\n",
    "\n",
    "#Dechiffre un message selon le chiffre de Vernam\n",
    "def decrypt (message, cle):\n",
    "    decrypt = []\n",
    "    clair = \"\"\n",
    "    for i in range(len(message)):\n",
    "        bit_decrypte = message[i] ^ cle[i]\n",
    "        decrypt.append(bit_decrypte)\n",
    "\n",
    "    #Reconstitution du message en caractère\n",
    "    while len(decrypt) !=0 :\n",
    "        mot =[]\n",
    "        #on reconstitue des listes de 8 mots\n",
    "        for i in range(8):\n",
    "            bit = decrypt.pop(0)\n",
    "            mot.append(bit)\n",
    "        #Puis on convertit la liste de bit en entier puis en caractère\n",
    "        clair += chr(conv_dec(mot))\n",
    "    return clair\n"
   ]
  },
  {
   "cell_type": "code",
   "execution_count": 1,
   "metadata": {},
   "outputs": [],
   "source": [
    "def conv_bin(chaine):\n",
    "    binaire = bin(ord(chaine[0]))[2:].zfill(8)  \n",
    "    return binaire + conv_bin(chaine[1:])"
   ]
  },
  {
   "cell_type": "code",
   "execution_count": 11,
   "metadata": {},
   "outputs": [
    {
     "data": {
      "text/plain": [
       "'0100100001100101011011000110110001101111'"
      ]
     },
     "execution_count": 11,
     "metadata": {},
     "output_type": "execute_result"
    }
   ],
   "source": [
    "conv_bin(\"Hello\")"
   ]
  },
  {
   "cell_type": "code",
   "execution_count": 17,
   "metadata": {},
   "outputs": [
    {
     "name": "stdout",
     "output_type": "stream",
     "text": [
      "Message initial : Hello World!\n",
      "Clé générée : [0, 1, 0, 1, 0, 0, 1, 0, 1, 1, 0, 1, 0, 0, 0, 0, 0, 0, 1, 1, 1, 1, 1, 1, 0, 1, 0, 0, 0, 1, 0, 0, 1, 0, 1, 1, 0, 1, 1, 1, 1, 1, 1, 0, 0, 0, 1, 1, 1, 1, 0, 0, 0, 0, 1, 1, 1, 0, 1, 0, 1, 0, 0, 1, 0, 0, 1, 0, 1, 1, 1, 0, 1, 0, 0, 1, 1, 0, 1, 0, 1, 1, 1, 0, 0, 1, 1, 0, 1, 1, 0, 0, 0, 1, 0, 1]\n",
      "Message crypté : [0, 0, 0, 1, 1, 0, 1, 0, 1, 0, 1, 1, 0, 1, 0, 1, 0, 1, 0, 1, 0, 0, 1, 1, 0, 0, 1, 0, 1, 0, 0, 0, 1, 1, 0, 1, 1, 0, 0, 0, 1, 1, 0, 0, 0, 0, 1, 1, 1, 0, 0, 1, 0, 1, 0, 0, 1, 1, 0, 0, 0, 1, 1, 0, 0, 1, 0, 1, 1, 1, 0, 0, 1, 1, 1, 1, 0, 1, 1, 0, 1, 0, 0, 0, 0, 0, 1, 0, 1, 1, 1, 0, 0, 1, 0, 0]\n",
      "Message décrypté : Hello World!\n"
     ]
    }
   ],
   "source": [
    "if __name__ == \"__main__\":\n",
    "    message = \"Hello World!\"\n",
    "    cle, message_crypte = cryptage_Vernam(message)\n",
    "    message_decrypte = decrypt(message_crypte, cle)\n",
    "\n",
    "    print(\"Message initial :\", message)\n",
    "    print(\"Clé générée :\", cle)\n",
    "    print(\"Message crypté :\", message_crypte)\n",
    "    print(\"Message décrypté :\", message_decrypte)"
   ]
  },
  {
   "cell_type": "markdown",
   "metadata": {},
   "source": [
    "# Chiffrement RSA"
   ]
  },
  {
   "cell_type": "markdown",
   "metadata": {},
   "source": [
    "Le chiffrement **RSA** à été créer en 1977 par Ron Rivest, Adi Shamir, et Leonard Adleman. Au même moment à Londres, Clifford Cocks apprend que ces chercheurs ont découvert ce que lui-même avait découvert **3 ans auparavant** mais qui est resté secret défense. Il est le véritable inventeu du RSA, mais le reste du monde ne l'apprendra qu'en 1997 au moment de la déclassification de cette information.  "
   ]
  },
  {
   "cell_type": "markdown",
   "metadata": {},
   "source": [
    "### Principe de fonctionnement :\n",
    "\n",
    "Dans le chiffrement RSA, le modulo est utilisé pour réaliser des opérations mathématiques sur de grands nombres premiers, ce qui constitue le fondement de cet algorithme de cryptographie à clé publique.\n",
    "\n",
    "1. **Génération des clés** : Pour commencer, deux nombres premiers distincts et très grands, souvent désignés par p et q, sont choisis. Ces nombres premiers sont utilisés pour générer les clés publique et privée. \n",
    "\n",
    "2. **Calcul du modulo N** : Après avoir choisi p et q, on calcule un nombre N, qui est simplement le produit des deux nombres premiers : N = p * q. Ce nombre N est utilisé comme le module de chiffrement et de déchiffrement.\n",
    "\n",
    "3. **Calcul de l'indicatrice d'Euler** : Une fonction appelée l'indicatrice d'Euler (φ(N)) est calculée. Pour des nombres premiers p et q, l'indicatrice d'Euler est simplement (p-1) * (q-1).\n",
    "\n",
    "4. **Choix de l'exposant de chiffrement (clé publique)** : Un exposant de chiffrement e est choisi, généralement un nombre premier et relativement petit, qui est copremier avec φ(N), ce qui signifie qu'ils n'ont aucun facteur en commun autre que 1.\n",
    "\n",
    "5. **Calcul de la clé publique** : La clé publique est alors constituée de l'exposant de chiffrement e et du module N.\n",
    "\n",
    "6. **Choix de l'exposant de déchiffrement (clé privée)** : Pour déterminer l'exposant de déchiffrement d, on cherche un nombre tel que (e * d) modulo φ(N) = 1. Cela signifie que lorsque e et d sont multipliés puis divisés par φ(N), le reste de la division est 1.\n",
    "\n",
    "7. **Calcul de la clé privée** : La clé privée est constituée de l'exposant de déchiffrement d et du module N.\n",
    "\n",
    "8. **Chiffrement et déchiffrement** : Pour chiffrer un message m, on calcule m^e modulo N. Pour déchiffrer le message chiffré c, on calcule c^d modulo N. Ces opérations utilisent le modulo N pour que les calculs restent dans le domaine des entiers mod N.\n",
    "\n",
    "L'utilisation du modulo N dans RSA garantit que toutes les opérations de chiffrement et de déchiffrement restent dans le domaine des entiers mod N, ce qui permet de travailler avec des nombres entiers relativement petits tout en préservant la sécurité du système."
   ]
  },
  {
   "cell_type": "markdown",
   "metadata": {},
   "source": [
    "# Chiffrement symétrique : César"
   ]
  },
  {
   "cell_type": "markdown",
   "metadata": {},
   "source": [
    "Lors de ses batailles, l'empereur romain JULES CÉSAR cryptait les messages qu'il envoyait à ses généraux. Sa méthode de codage consistait à décaler les lettres de 3 rangs, vers la droite, dans l'alphabet. Cette méthode de cryptage est appelée chiffrement de César, ou Code César."
   ]
  },
  {
   "cell_type": "code",
   "execution_count": 3,
   "metadata": {},
   "outputs": [],
   "source": [
    "def chiffre_de_cesar(texte, decalage):\n",
    "    texte_chiffre = \"\"\n",
    "    for char in texte:\n",
    "        if char.isalpha():  # Permet de vérifier si le caractère est une lettre \n",
    "            majuscule = char.isupper()  # Permet de vérifier si le caractère est en majuscule\n",
    "            char = char.upper()  # Conversion en majuscule \n",
    "            code = ord(char) - ord('A')  # Permet de convertir la lettre en nombre entre 0 et 25\n",
    "            code = (code + decalage) % 26  # Effectue le décalage en prenant en compte le modulo pour rester dans la plage de donné\n",
    "            char = chr(code + ord('A'))  # Convertit le nombre en lettre majuscule\n",
    "            if not majuscule:  # Si le carctère original était en minuscule, on le convertit en majuscule\n",
    "                char = char.lower()\n",
    "        texte_chiffre += char\n",
    "    return texte_chiffre\n",
    "\n",
    "def dechiffre_de_cesar(texte_chiffre, decalage):\n",
    "    return chiffre_de_cesar(texte_chiffre, -decalage)\n",
    "\n",
    "def obtenir_decalage():\n",
    "    while True:\n",
    "        try:\n",
    "            decalage = int(input(\"Entrez le décalage des lettres entre 1 et 25 : \"))\n",
    "            if 1 <= decalage <= 25:\n",
    "                return decalage\n",
    "            else:\n",
    "                print(\"Le décalage doit être entre 1 et 25.\")\n",
    "        except ValueError:\n",
    "            print(\"Veuillez entrer un nombre entier.\")\n"
   ]
  },
  {
   "cell_type": "markdown",
   "metadata": {},
   "source": []
  },
  {
   "cell_type": "code",
   "execution_count": 5,
   "metadata": {},
   "outputs": [
    {
     "name": "stdout",
     "output_type": "stream",
     "text": [
      "Le décalage doit être entre 1 et 25.\n",
      "Veuillez entrer un nombre entier.\n",
      "Veuillez entrer un nombre entier.\n",
      "Texte chiffré: ccc\n",
      "Texte déchiffré: fff\n"
     ]
    }
   ],
   "source": [
    "def main():\n",
    "    texte = input(\"Entrez le texte à chiffrer ou déchiffrer : \")\n",
    "    decalage = obtenir_decalage()\n",
    "\n",
    "    texte_chiffre = chiffre_de_cesar(texte, decalage)\n",
    "    print(\"Texte chiffré:\", texte_chiffre)\n",
    "\n",
    "    texte_dechiffre = dechiffre_de_cesar(texte_chiffre, decalage)\n",
    "    print(\"Texte déchiffré:\", texte_dechiffre)\n",
    "\n",
    "# Appel de la fonction principale\n",
    "if __name__ == \"__main__\":\n",
    "    main()"
   ]
  },
  {
   "cell_type": "markdown",
   "metadata": {},
   "source": [
    "# Chiffrement symétrique VS asymétrique "
   ]
  },
  {
   "cell_type": "markdown",
   "metadata": {},
   "source": [
    "### Chiffrement symétrique :\n",
    "\n",
    "Le chiffrement symétrique trouve ses origines dans l'histoire ancienne de la cryptographie. Des méthodes de chiffrement symétriques rudimentaires étaient utilisées dès l'Antiquité pour protéger les communications militaires et diplomatiques. Un exemple célèbre est le chiffrement de César, où chaque lettre du message était décalée de 3 rang.\n",
    "Dans le chiffrement symétrique, il y a une seule clé de déchiffrement (qui est identique) et qui va permettre de déchiffrer le message.\n",
    "\n",
    "![Chiffrement symétrique](https://cellar-c2.services.clever-cloud.com/s3.primx.eu/uploads/2022/04/PRIMX_symetric_encryption-1024x377.png)\n",
    "\n",
    "Evidemment, cela pose des problèmes de sécurité liés au partage de cette clé (Chiffre de Vernam). Le risque étant quelle soit visible si cette échange ce fait via internet. Il est donc préférable de la remettre en main propre afin de limiter ce risque, ce qui, je vous l'accorde est très peu pratique surtout si notre interlocuteur se trouve à l'autre bout du monde."
   ]
  },
  {
   "cell_type": "markdown",
   "metadata": {},
   "source": [
    "### chiffrement asymétrique :\n",
    "\n",
    "Le concept de chiffrement asymétrique, également connu sous le nom de cryptographie à clé publique, a été développé dans les années 1970 par Whitfield Diffie, Martin Hellman et Ralph Merkle. Leur travail novateur a été publié en 1976 dans un article intitulé \"New Directions in Cryptography\"\n",
    "\n",
    "Le chiffrement asymétrique est caractérisé par l'utilisation de **clés publique**/**clé privé**.\n",
    "\n",
    "![Chiffrement asymétrique](https://www.tice-education.fr/images/stories/img/chiffrement-asymetrique.JPG)\n",
    "\n",
    "Dans cette exemple, si l'utilisateur *A* veut envoyer \"un message\" à l'utilisateur *B*, il doit lui demander sa **clé publique**, qui est visible par tous. Cette clé sert uniquement à **chiffré le fichier**. Ainsi une fois le message chiffré, l'utilisateur *A* peut envoyé le fichier en toute sécurité à l'utilisateur *B* qui pourra le déchiffrer grâce à sa **clé privé** qu'il est le seul à posséder (d'où son nom). \n"
   ]
  },
  {
   "cell_type": "markdown",
   "metadata": {},
   "source": [
    "# Site Didier Muller\n",
    "\n",
    "**Lien :** https://www.didiermuller.ch/crypto  \n",
    "\n",
    "### Vocabulaire :\n",
    "\n",
    "##### **• A**\n",
    "\n",
    "*Acrostiche :*\\\n",
    "Texte ou poème composé de telle sorte qu'en lisant verticalement la première lettre de chaque ligne, on trouve un mot ou le nom d'une personne.\n",
    "\n",
    "*Algorithme :*\\\n",
    "Suite d'opérations élémentaires à appliquer à des données pour aboutir à un résultat désiré. Par exemple, une recette de cuisine est un algorithme.\n",
    "\n",
    "*Antigramme :*\\\n",
    "Texte déjà chiffré qui va être surchiffré.\n",
    "\n",
    "*ASCII :*\\\n",
    "American Standard Code for Information Interchange. Code standard américain pour l'échange d'information qui traduit en nombres les caractères de l'alphabet et autres. Exemple: \"A\" est traduit \"65\".\n",
    "\n",
    "*Asymétrique :*\\\n",
    "Se dit d'un algorithme de cryptage utilisant une clef publique pour chiffrer et une clef privée (différente) pour déchiffrer les messages.\n",
    "\n",
    "\n",
    "*Authentifier :*\\\n",
    "S'assurer de l'identité de l'émetteur d'un message, et de l'intégrité du message reçu.\n",
    "\n",
    "##### **• C**\n",
    "\n",
    "*Casser :*\\\n",
    "Dans l'expression \"casser un code\", trouver la clef du code ou le moyen d'accéder à ce qu'il protégeait.\n",
    "\n",
    "*Chiffrement :*\\\n",
    "Procédé grâce auquel on peut rendre la compréhension d'un document impossible à toute personne qui n'a pas la clef d'encodage.\n",
    "\n",
    "*Chiffrer :*\\\n",
    "Transformer un message afin qu'il ne soit lisible qu'à l'aide d'une clef.\n",
    "\n",
    "*Clef :*\\\n",
    "Dans un système de chiffrement, elle correspond à un nombre, un mot, une phrase, etc. qui permet, grâce à l'algorithme de chiffrement, de chiffrer ou de déchiffrer un message.\n",
    "\n",
    "*Clef faible :*\\\n",
    "Clef qui, pour une raison quelconque (à cause de sa longueur, d'une propriété mathématique. etc.), permet de casser rapidement le code.\n",
    "\n",
    "*Clef privée :*\\\n",
    "Clef permettant le déchiffrement d'un message et donc restant secrète. Dans le cas d'un système symétrique, elle sert aussi au chiffrement et est donc connue de l'émetteur comme du récepteur.\n",
    "\n",
    "*Clef publique :*\\\n",
    "Clef utilisée pour chiffrer des données ou vérifier la signature numérique d'un expéditeur.\n",
    "\n",
    "*Cryptanalyse :*\\\n",
    "Art d'analyser un message chiffré afin de le décrypter.\n",
    "\n",
    "*Cryptogramme :*\\\n",
    "Message chiffré ou codé.\n",
    "\n",
    "*Cryptographie :*\\\n",
    "Discipline incluant les principes, les moyens et les méthodes de transformation des données, dans le but de masquer leur contenu, d'empêcher leur modification ou leur utilisation illégale.\n",
    "\n",
    "*Cryptologie :*\\\n",
    "Science des messages secrets. Se décompose en cryptographie et cryptanalyse. Le mot cryptologie est souvent utilisé comme synonyme de cryptographie.\n",
    "\n",
    "##### **• D**\n",
    "\n",
    "*Déchiffrement :*\\\n",
    "Opération inverse du chiffrement, i.e. obtenir la version originale d'un message qui a été précédemment chiffré. Ici, on connaît la méthode de chiffrement, contrairement au décryptement.\n",
    "\n",
    "*Décrypter :*\\\n",
    "Parvenir à restaurer des données qui avaient été chiffrées, donc à leur faire retrouver leur état premier (\"en clair\"), sans disposer des clefs théoriquement nécessaires.\n",
    "\n",
    "##### **• E**\n",
    "\n",
    "*Encoder :*\\\n",
    "Modifier la structure d'un ensemble de données en lui appliquant un algorithme (chiffrement, méthode de compression...). L'encodage n'a pas forcément un but cryptographique.\n",
    "\n",
    "##### **• F**\n",
    "\n",
    "*Force brute :*\\\n",
    "L'attaque par la force brute est la seule à laquelle aucun algorithme ne résiste: elle consiste à tester toutes les clefs possibles, jusqu'à trouver la bonne. Elle ne constitue pas souvent une bonne approche car elle nécessite souvent des jours, des mois, voire des années pour trouver la clef. On peut l'optimiser en se servant d'un dictionnaire.\n",
    "\n",
    "##### **• H**\n",
    "\n",
    "*Hachage :*\\\n",
    "Fonction appliquée à un document de longueur variable qui renvoie un nombre de longueur fixe caractéristique du document : c'est l'empreinte du document. Une légère modification du document entraînant une modification visible de l'empreinte, celle-ci permettra de vérifier l'intégrité du document.\n",
    "\n",
    "##### **• I**\n",
    "\n",
    "\n",
    "*Intégrité :*\\\n",
    "D'un point de vue cryptographique, assurer l'intégrité de données consiste à permettre la détection des modifications volontaires de ces données.\n",
    "\n",
    "##### **• M**\n",
    "\n",
    "\n",
    "*Masque jetable :*\\\n",
    "Seule méthode de chiffrement absolument sûre connue. Elle repose sur une clef aléatoire de même longueur que le message. Chaque clef ne doit être utilisée qu'une seule fois.\n",
    "\n",
    "*Monoalphabétique :*\\\n",
    "Se dit d'un chiffre où une lettre du message clair est toujours remplacée par le même symbole. On a donc une bijection entre les lettres claires et les symboles de l'alphabet de chiffrage. Exemple: le chiffre de César.\n",
    "\n",
    "##### **• P**\n",
    "\n",
    "*Polyalphabétique :*\\\n",
    "Se dit d'un chiffre où plusieurs alphabets de chiffrage sont utilisés en même temps. Exemples: le chiffre de Porta et le chiffre de Vigenère.\n",
    "\n",
    "*Polygrammique :*\\\n",
    "Se dit d'un chiffre où un groupe de n lettres est chiffré par un groupe de n symboles. Exemples: le chiffre de Playfair (avec n = 2) et le chiffre de Hill.\n",
    "\n",
    "##### **• R**\n",
    "\n",
    "\n",
    "*RSA :*\\\n",
    "Initiales de Rivest, Shamir, Adleman. Algorithme de chiffrement à clef publique utilisé notamment dans PGP, utilisé principalement pour le chiffrement de la signature, permettant donc l'authentification du document.\n",
    "\n",
    "##### **• S**\n",
    "\n",
    "*Signature :*\\\n",
    "Donnée de taille faible qui, jointe à un message, prouve l'identité de l'émetteur du message.\n",
    "\n",
    "\n",
    "*Stéganographie :*\\\n",
    "Branche particulière de la cryptographie qui consiste non pas à rendre le message inintelligible, mais à le camoufler dans un support de manière à masquer sa présence.\n",
    "\n",
    "\n",
    "*Substitution :*\\\n",
    "Un chiffre de substitution remplace les caractères du message en clair par des symboles (caractères, nombres, signes, etc.) définis à l'avance.\n",
    "\n",
    "*Surchiffrement :*\\\n",
    "Fait de chiffrer un message déjà chiffré.\n",
    "\n",
    "##### **• T**\n",
    "\n",
    "*Tomogrammique :*\\\n",
    "Dans les systèmes tomogrammiques, chaque lettre est tout d'abord représentée par un groupe de plusieurs symboles. Ces symboles sont ensuite chiffrés séparément ou par groupes de taille fixe. Exemples: le code morse fractionné, le chiffre de Delastelle.\n",
    "\n",
    "\n",
    "*Transposition :*\\\n",
    "Un chiffre de transposition ne modifie pas le contenu du message mais mélange les caractères selon une méthode prédéfinie.\n",
    "\n",
    "##### **• X**\n",
    "\n",
    "\n",
    "*XOR :*\\\n",
    "Opération logique \"Ou exclusif\": 0+0=0, 0+1=1, 1+0=1, 1+1=0.\n",
    "\n",
    "### Notions importantes :\n",
    "\n",
    "##### Différence *Chiffrer / Crypter :*\n",
    "\n",
    "**•Chiffrer :** C'est le processus de transformation de données en utilisant un algorithme et une clé spécifique pour rendre ces données illisibles sans la clé de déchiffrement appropriée.\n",
    "\n",
    "**•Crypter :** C'est un terme plus général qui englobe le processus de protection de l'information en la rendant illisible ou en la transformant en une forme secrète, que ce soit par chiffrement, hachage ou d'autres méthodes de sécurité\n",
    "\n",
    "##### Différence *Déchiffrer / Décrypter :*\n",
    "\n",
    "**•Déchiffrer :** C'est le processus de restauration de données chiffrées à leur état original en utilisant la clé de déchiffrement appropriée pour annuler le chiffrement.\n",
    "\n",
    "**•Décrypter :** C'est un terme plus général qui signifie rendre l'information lisible ou revenir à sa forme originale, que ce soit par déchiffrement, décodage ou d'autres méthodes de révélation de l'information secrète."
   ]
  },
  {
   "cell_type": "markdown",
   "metadata": {},
   "source": [
    "# Machine Engima\n",
    "\n",
    "Enigma est la machine à chiffrer et déchiffrer utilisée par les armées allemandes du début des années trente jusqu'à la fin de Seconde Guerre Mondiale. Elle automatise le *chiffrement par substitution*.\n",
    "\n",
    "#### Fonctionnement :\n",
    "\n",
    "- **Entrée de la lettre** : L'utilisateur appuie sur une touche correspondant à une lettre du message à chiffrer.\n",
    "\n",
    "- **Plugboard** (Tableau de connexion) : La lettre d'entrée passe d'abord par le plugboard, où des paires de lettres ont été préalablement connectées. Par exemple, si 'A' est connecté à 'R', chaque 'A' sera transformé en 'R' et vice versa.\n",
    "\n",
    "- **Rotors** : La lettre modifiée entre ensuite dans les rotors. Chaque rotor est un disque avec des contacts électriques. À chaque pression sur une touche, les rotors avancent, modifiant le chemin du courant électrique à travers eux. Chaque rotor effectue une substitution de la lettre.\n",
    "\n",
    "- **Réflecteur** : Après avoir traversé les rotors, la lettre passe par le réflecteur. Ce composant réoriente le courant de manière à le faire repasser à travers les rotors, mais sur un chemin différent.\n",
    "\n",
    "- **Retour par les rotors** : Le courant retourne à travers les rotors dans l'ordre inverse, effectuant une deuxième substitution de la lettre.\n",
    "\n",
    "- **Sortie** : La lettre chiffrée est finalement affichée sur un tableau lumineux ou imprimée sur un ruban.\n",
    "\n",
    "![Machine Enigma](https://www.didiermuller.ch/crypto/Enigma/principe_fr.jpg)"
   ]
  }
 ],
 "metadata": {
  "kernelspec": {
   "display_name": "Python 3",
   "language": "python",
   "name": "python3"
  },
  "language_info": {
   "codemirror_mode": {
    "name": "ipython",
    "version": 3
   },
   "file_extension": ".py",
   "mimetype": "text/x-python",
   "name": "python",
   "nbconvert_exporter": "python",
   "pygments_lexer": "ipython3",
   "version": "3.10.8"
  }
 },
 "nbformat": 4,
 "nbformat_minor": 2
}
