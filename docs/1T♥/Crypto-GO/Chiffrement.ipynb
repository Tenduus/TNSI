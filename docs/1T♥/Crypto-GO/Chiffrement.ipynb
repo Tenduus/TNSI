{
 "cells": [
  {
   "cell_type": "markdown",
   "metadata": {},
   "source": [
    "# Le Chiffre de Vernam"
   ]
  },
  {
   "cell_type": "markdown",
   "metadata": {},
   "source": [
    "Le **masque jetable**, également appelé **chiffre de Vernam**, est un algorithme de cryptographie inventé par Gilbert Vernam en **1917**\n",
    " et perfectionné par Joseph Mauborgne, qui rajouta la notion de clé aléatoire.\n",
    "\n",
    "Le chiffrement par la méthode du masque jetable consiste à combiner le message en clair avec une clé présentant les caractéristiques très particulières suivantes :\n",
    "\n",
    "- La clé doit être une suite de caractères au moins aussi longue que le message à chiffrer.\n",
    "- Les caractères composant la clé doivent être choisis de façon totalement aléatoire.\n",
    "- Chaque clé, ou « masque », ne doit être utilisée qu'une seule fois (d'où le nom de masque jetable).\n",
    "Ce chiffre peut aisément se faire à la fin, mais nous verrons ici la version informatisée qui repose sur l'opérateur OU-exclusif.\n",
    "\n",
    "On dispose de la fonction conversion_binaire qui prend en paramètre un entier positif n ( inférieur à \n",
    "256 ) et renvoie une liste d'entiers correspondant à la représentation binaire de n.\n",
    "\n",
    "Pour crypter un message avec le chiffre de Vernam, on procède ainsi :\n",
    "\n",
    "- on génère une clé aléatoire de même taille que le message\n",
    "- on transforme le message en une suite de bits\n",
    "- on réalise un OU-exclusif bit à bit entre le message et la clé\n",
    "\n",
    "Pour déchiffrer le message on refait la même opération avec cette même clé.\n",
    "\n",
    "La fonction generation_cle() prend en paramètre le message et renvoie une clé aléatoire sous forme d'une liste de bits. La clé doit avoir la même taille que le message initial.\n",
    "\n",
    "Compléter les différentes fonctions pour qu'elles répondent aux spécifications."
   ]
  },
  {
   "cell_type": "code",
   "execution_count": 11,
   "metadata": {},
   "outputs": [],
   "source": [
    "from random import randint\n",
    "\n",
    "#Crée une clé aléatoire de la même taille que le message\n",
    "#Entrée : message sous la forme d'une série de bits\n",
    "def generation_cle(message) :\n",
    "    longueur = len(message)\n",
    "    # création de la clé par compréhension\n",
    "    cle = [randint(0, 1) for _ in range(longueur)]\n",
    "    return cle\n",
    "\n",
    "#Génère une suite de bits à partir d'une chaine de caractères\n",
    "def message_en_binaire(message):\n",
    "    message_binaire = []\n",
    "    for caractere in message :\n",
    "        message_binaire += conv_bin(ord(caractere))\n",
    "    return message_binaire\n",
    "\n",
    "# Convertie un message clair\n",
    "def cryptage_Vernam(message):\n",
    "    #on transforme la chaine de caractères en suite de bits\n",
    "    message_binaire = message_en_binaire(message)\n",
    "    #Génération d'une clé de même longueur\n",
    "    cle = generation_cle(message_binaire)\n",
    "    message_crypte = []\n",
    "\n",
    "    #on réalise le cryptage par une opération bit à bit\n",
    "    for i in range(len(message_binaire)):\n",
    "        bit_crypte = message_binaire[i] ^ cle[i]\n",
    "        message_crypte.append(bit_crypte)\n",
    "\n",
    "    return cle, message_crypte\n",
    "\n",
    "#Convertie un nombre binaire sous 8 bits en entier\n",
    "def conv_dec(binaire):\n",
    "    nombre = 0\n",
    "    for i in range(8):\n",
    "        exposant = 7 - i\n",
    "        nombre += binaire[i]*2**exposant\n",
    "    return nombre\n",
    "\n",
    "def conv_bin(caractere):\n",
    "    # Convertir le caractère en binaire sur 8 bits\n",
    "    binaire_str = bin(caractere)[2:]  \n",
    "    binaire = [int(bit) for bit in binaire_str.zfill(8)]  \n",
    "    return binaire\n",
    "\n",
    "#Dechiffre un message selon le chiffre de Vernam\n",
    "def decrypt (message, cle):\n",
    "    decrypt = []\n",
    "    clair = \"\"\n",
    "    for i in range(len(message)):\n",
    "        bit_decrypte = message[i] ^ cle[i]\n",
    "        decrypt.append(bit_decrypte)\n",
    "\n",
    "    #Reconstitution du message en caractère\n",
    "    while len(decrypt) !=0 :\n",
    "        mot =[]\n",
    "        #on reconstitue des listes de 8 mots\n",
    "        for i in range(8):\n",
    "            bit = decrypt.pop(0)\n",
    "            mot.append(bit)\n",
    "        #Puis on convertit la liste de bit en entier puis en caractère\n",
    "        clair += chr(conv_dec(mot))\n",
    "    return clair\n"
   ]
  },
  {
   "cell_type": "code",
   "execution_count": 17,
   "metadata": {},
   "outputs": [
    {
     "name": "stdout",
     "output_type": "stream",
     "text": [
      "Message initial : Hello World!\n",
      "Clé générée : [0, 1, 0, 1, 0, 0, 1, 0, 1, 1, 0, 1, 0, 0, 0, 0, 0, 0, 1, 1, 1, 1, 1, 1, 0, 1, 0, 0, 0, 1, 0, 0, 1, 0, 1, 1, 0, 1, 1, 1, 1, 1, 1, 0, 0, 0, 1, 1, 1, 1, 0, 0, 0, 0, 1, 1, 1, 0, 1, 0, 1, 0, 0, 1, 0, 0, 1, 0, 1, 1, 1, 0, 1, 0, 0, 1, 1, 0, 1, 0, 1, 1, 1, 0, 0, 1, 1, 0, 1, 1, 0, 0, 0, 1, 0, 1]\n",
      "Message crypté : [0, 0, 0, 1, 1, 0, 1, 0, 1, 0, 1, 1, 0, 1, 0, 1, 0, 1, 0, 1, 0, 0, 1, 1, 0, 0, 1, 0, 1, 0, 0, 0, 1, 1, 0, 1, 1, 0, 0, 0, 1, 1, 0, 0, 0, 0, 1, 1, 1, 0, 0, 1, 0, 1, 0, 0, 1, 1, 0, 0, 0, 1, 1, 0, 0, 1, 0, 1, 1, 1, 0, 0, 1, 1, 1, 1, 0, 1, 1, 0, 1, 0, 0, 0, 0, 0, 1, 0, 1, 1, 1, 0, 0, 1, 0, 0]\n",
      "Message décrypté : Hello World!\n"
     ]
    }
   ],
   "source": [
    "if __name__ == \"__main__\":\n",
    "    message = \"Hello World!\"\n",
    "    cle, message_crypte = cryptage_Vernam(message)\n",
    "    message_decrypte = decrypt(message_crypte, cle)\n",
    "\n",
    "    print(\"Message initial :\", message)\n",
    "    print(\"Clé générée :\", cle)\n",
    "    print(\"Message crypté :\", message_crypte)\n",
    "    print(\"Message décrypté :\", message_decrypte)"
   ]
  },
  {
   "cell_type": "markdown",
   "metadata": {},
   "source": [
    "# Chiffrement RSA"
   ]
  },
  {
   "cell_type": "markdown",
   "metadata": {},
   "source": [
    "http://www-desir.lip6.fr/~spanjaard/cours/Algo_cours5.pdf"
   ]
  }
 ],
 "metadata": {
  "kernelspec": {
   "display_name": "Python 3",
   "language": "python",
   "name": "python3"
  },
  "language_info": {
   "codemirror_mode": {
    "name": "ipython",
    "version": 3
   },
   "file_extension": ".py",
   "mimetype": "text/x-python",
   "name": "python",
   "nbconvert_exporter": "python",
   "pygments_lexer": "ipython3",
   "version": "3.10.8"
  }
 },
 "nbformat": 4,
 "nbformat_minor": 2
}
