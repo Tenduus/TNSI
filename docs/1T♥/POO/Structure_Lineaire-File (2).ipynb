{
 "cells": [
  {
   "cell_type": "markdown",
   "metadata": {},
   "source": [
    "# Structure linéaire de données : File\n",
    "\n",
    "En informatique on manipule essentiellement des données.\n",
    "\n",
    "Une structure de données est une organisation logique des données permettant de simplifier ou d'accélérer leur traitement.\n",
    "\n",
    "---\n",
    "\n",
    "Une file (queue en anglais ) est une structure de données basée sur le principe «Premier entré,premier sorti» (ou FIFO pour First In, First Out), ce qui veut dire que les premiers éléments ajoutés à la file seront les premiers à être récupérés.\n",
    "\n",
    "Le fonctionnement ressemble à une file d’attente : les premières personnes à arriver sont les premières personnes à sortir de la file.\n",
    "\n",
    "\n",
    "\n",
    "\n",
    "<img src=\"https://ericecmorlaix.github.io/img/SLD-File.png\" alt=\"SLD-File.png\" title=\"File\" width=50% >\n",
    "\n",
    "\n"
   ]
  },
  {
   "cell_type": "markdown",
   "metadata": {},
   "source": [
    "Voici quelques exemples d’usage courant d’une file:\n",
    "\n",
    "- En général, on utilise des files pour mémoriser temporairement des transactions qui doivent attendre pour être traitées ;\n",
    "- Les serveurs d’impression, qui doivent traiter les requêtes dans l’ordre dans lequel elles arrivent, et les insèrent dans une file d’attente (ou une queue).\n",
    "- Certains moteurs multitâches, dans un système d’exploitation, qui doivent accorder du temps-machine à chaque tâche, sans en privilégier aucune.\n",
    "\n",
    "<h3 class='fa fa-cog' style=\"color: MediumSeaGreen\"> A faire vous même n°0 :</h3>\n",
    "\n",
    "Essayer de résoudre le tri à la page suivante : https://alainbusser.frama.io/NSI-IREMI-974/queuesortable.html\n",
    "\n",
    "\n",
    "# TAD d'une file :\n",
    "\n",
    "Pour définir une structure de file, outre son initialisation, on a besoin d’un nombre réduit d’opérations de bases :\n",
    "- «enfiler» : ajoute un élément dans la file. En anglais : « enqueue » ;\n",
    "- «défiler» : renvoie le prochain élément de la file, et le retire de la file. En anglais : « dequeue » ;\n",
    "- «vide» : renvoie vrai si la file est vide, faux sinon ;\n",
    "- «remplissage» : renvoie le nombre d’éléments dans la file.\n",
    "\n",
    "La structure de file est un concept abstrait, pour la réaliser dans la pratique, plusieurs implémentations sont possibles...\n",
    "\n",
    "\n",
    "## Implémentation :\n",
    "\n",
    "### Version 1 :\n",
    "\n",
    "En utilisant une liste \"built in\" de Python pour représenter la file.\n",
    "\n",
    "Avec les méthodes `append` et `pop` serviront pour «enfiler» et «défiler».\n",
    "\n",
    "Voici les fonctions de base :"
   ]
  },
  {
   "cell_type": "code",
   "execution_count": 2,
   "metadata": {},
   "outputs": [],
   "source": [
    "def file():\n",
    "    # retourne une file vide\n",
    "    return []\n",
    "\n",
    "def vide(f):\n",
    "    # renvoie True si la file est vide False sinon\n",
    "    return f==[]\n",
    "\n",
    "def enfiler(f,x):\n",
    "    # ajoute x à la file f\n",
    "    return f.append(x)\n",
    "\n",
    "def defiler(f):\n",
    "    # enlève et renvoie le premier élément de la file\n",
    "    assert not vide(f), \"file vide\"\n",
    "    return f.pop(0)\n"
   ]
  },
  {
   "cell_type": "markdown",
   "metadata": {},
   "source": [
    "<h3 class='fa fa-cog' style=\"color: MediumSeaGreen\"> A faire vous même n°1 :</h3>\n",
    "\n",
    "Tester les instructions suivantes :\n",
    "\n",
    "```Python\n",
    "f=file()\n",
    "for i in range(5):\n",
    "    enfiler(f,2*i)\n",
    "print(f)\n",
    "a=defiler(f)\n",
    "print(a)\n",
    "print(f)\n",
    "print(vide(f))\n",
    "```"
   ]
  },
  {
   "cell_type": "code",
   "execution_count": 3,
   "metadata": {},
   "outputs": [
    {
     "name": "stdout",
     "output_type": "stream",
     "text": [
      "[0, 2, 4, 6, 8]\n",
      "0\n",
      "[2, 4, 6, 8]\n",
      "False\n"
     ]
    }
   ],
   "source": [
    "f=file()\n",
    "for i in range(5):\n",
    "    enfiler(f,2*i)\n",
    "print(f)\n",
    "a=defiler(f)\n",
    "print(a)\n",
    "print(f)\n",
    "print(vide(f))"
   ]
  },
  {
   "cell_type": "markdown",
   "metadata": {},
   "source": [
    "<h3 class='fa fa-code' style=\"color: MediumSeaGreen\"> A faire vous même n°2 :</h3>\n",
    "\n",
    "Réaliser les fonctions `taille(f)` et `sommet(f)` qui retournent respectivement la taille de la file et le sommet de la file (le premier à sortir) sans le supprimer."
   ]
  },
  {
   "cell_type": "code",
   "execution_count": 1,
   "metadata": {},
   "outputs": [],
   "source": [
    "def taille(f) :\n",
    "    assert not vide(f), \"file vide\"\n",
    "    return len(f)\n",
    "    "
   ]
  },
  {
   "cell_type": "code",
   "execution_count": 2,
   "metadata": {},
   "outputs": [],
   "source": [
    "def sommet(f) :\n",
    "    assert not vide(f), \"file vide\"\n",
    "    return f[0]"
   ]
  },
  {
   "cell_type": "markdown",
   "metadata": {},
   "source": [
    "### Version 2 :\n",
    "\n",
    "En définissant une classe File pour implémenter cette structure :\n",
    "\n",
    "<h3 class='fa fa-code' style=\"color: MediumSeaGreen\"> A faire vous même n°3 :</h3>\n",
    "\n",
    "En vous inspirant de ce que l’on a vu pour la classe Pile(), réaliser cette implémentation"
   ]
  },
  {
   "cell_type": "code",
   "execution_count": 11,
   "metadata": {},
   "outputs": [],
   "source": [
    "class File:\n",
    "    def __init__(self):\n",
    "        '''Initialisation d'une file vide'''\n",
    "        self.file = []\n",
    "\n",
    "    def vide(self):\n",
    "        '''Vérifie si la file est vide'''\n",
    "        return len(self.file) == 0\n",
    "\n",
    "    def defiler(self):\n",
    "        '''Défile'''\n",
    "        if not self.vide():\n",
    "            return self.file.pop(0)\n",
    "        else:\n",
    "            raise IndexError(\"La file est vide\")\n",
    "\n",
    "    def enfiler(self, x):\n",
    "        '''Enfile'''\n",
    "        self.file.append(x)\n",
    "    \n",
    "    def taille(self):\n",
    "        '''Retourne la taille de la file'''\n",
    "        return len(self.file)\n",
    "\n",
    "    def sommet(self):\n",
    "        '''Retourne le sommet de la file sans le supprimer'''\n",
    "        if not self.vide():\n",
    "            return self.file[0]\n",
    "        else:\n",
    "            raise IndexError(\"La file est vide\")\n",
    "\n"
   ]
  },
  {
   "cell_type": "markdown",
   "metadata": {},
   "source": [
    "<h3 class='fa fa-cog' style=\"color: MediumSeaGreen\"> A faire vous même n°4 :</h3>\n",
    "\n",
    "Écrire les instructions permettant de :\n",
    "- créer une file\n",
    "- la remplir avec les entiers 0,2,4,6,8\n",
    "- la faire afficher\n",
    "- \"défiler\" la file en faisant afficher l’élément récupéré"
   ]
  },
  {
   "cell_type": "code",
   "execution_count": 5,
   "metadata": {},
   "outputs": [
    {
     "name": "stdout",
     "output_type": "stream",
     "text": [
      "File après l'enfilement : [0, 2, 4, 6, 8]\n",
      "Élément récupéré après le défilement : 0\n"
     ]
    }
   ],
   "source": [
    "\n",
    "ma_file = File()\n",
    "for i in range(0, 10, 2):\n",
    "    ma_file.enfiler(i)\n",
    "print(\"File après l'enfilement :\", ma_file.file)\n",
    "element_recupere = ma_file.defiler()\n",
    "print(\"Élément récupéré après le défilement :\", element_recupere)\n"
   ]
  },
  {
   "cell_type": "markdown",
   "metadata": {},
   "source": [
    "<h3 class='fa fa-cog' style=\"color: MediumSeaGreen\"> A faire vous même n°5 :</h3>\n",
    "\n",
    "Réaliser les méthodes `taille(self)` et `sommet(self)` qui retournent respectivement la taille de la file et le sommet (le premier à sortir) sans le supprimer."
   ]
  },
  {
   "cell_type": "code",
   "execution_count": 6,
   "metadata": {},
   "outputs": [],
   "source": [
    "def taille(self):\n",
    "    '''Retourne la taille de la file'''\n",
    "    return len(self.file)\n",
    "\n",
    "\n",
    "def sommet(self):\n",
    "    '''Retourne le sommet de la file sans le supprimer'''\n",
    "    if not self.vide():\n",
    "        return self.file[0]\n",
    "    else:\n",
    "        raise IndexError(\"La file est vide, aucun sommet à récupérer\")"
   ]
  },
  {
   "cell_type": "markdown",
   "metadata": {},
   "source": [
    "<h2 class='fa fa-code' style=\"color: darkorange\"> Exercice d'application 1 : Croisement routier</h2>\n",
    "\n",
    "Pour simuler un croisement routier, à sens unique, on utilise 3 files f1, f2 et f3 représentant respectivement les voitures arrivant sur des routes R1 et R2, et les voitures partant sur la route R3.\n",
    "\n",
    "La route R2 a un STOP. Les voitures de la file f2 ne peuvent avancer que s’il n’y a aucune voiture sur la route R1, donc dans la file f1.\n",
    "\n",
    "<img src=\"https://ericecmorlaix.github.io/img/SLD-FileVoiture.png\" alt=\"SLD-FileVoiture.png\" title=\"File Voiture\" width=50% >\n",
    "\n",
    "On souhaite écrire un algorithme qui simule le départ des voitures sur la route R3, modélisée par la file f3.\n",
    "\n",
    "- Dans la file f1 on représentera la présence d’une voiture par le nombre 1 et l’absence de voiture par 0 ;\n",
    "- Dans la file f2 on représentera la présence d’une voiture par le nombre 2 et l’absence de voiture par 0 ;\n",
    "- On n’utilisera que les méthodes enfiler, defiler, sommet et vide ;\n",
    "- On testera l’algorithme sur f1 : tête <–[0, 1, 1, 0, 1]<– queue ;\n",
    "- On testera l’algorithme sur f2 : tête <–[0, 2, 2, 2, 0, 2, 0]<– queue ;\n",
    "- Le résultat attendu est alors : f3 tête <–[0, 1, 1, 2, 1, 2, 2, 0, 2, 0]<– queue.\n",
    "\n",
    "<h3 class='fa fa-cog' style=\"color: MediumSeaGreen\"> A faire vous même n°6 :</h3>\n",
    "\n",
    "- Q1) Que doit faire l’algorithme si les deux sommets des files sont à 0 ?\n",
    "\n",
    "L'algorithme ne doit rien faire et passer au prochain état.\n",
    "\n",
    "- Q2) Que doit faire l’algorithme si le sommet de f1 est à 1 et celui de f2 à 2 ?\n",
    "\n",
    "L'algorithme doit faire partir la voiture de f1 sur la route R3 (f3) et avancer d'une position dans f2.\n",
    "\n",
    "- Q3) Que doit faire l’algorithme si le sommet de f1 est à 1 et celui de f2 à 0 ?\n",
    "\n",
    " L'algorithme doit faire partir la voiture de f1 sur la route R3 (f3).\n",
    "\n",
    "- Q4) Que doit faire l’algorithme si le sommet de f1 est à 0 et celui de f2 à 2 ?\n",
    "\n",
    "L'algorithme doit alors avancer d'une position dans f2.\n",
    "\n",
    "- Q5) Que doit faire l’algorithme si l’une des deux files est vide ?\n",
    "\n",
    "\n",
    "L'algorithme doit continuer le traitement en vérifiant l'autre file pour décider de l'action à effectuer.\n",
    "\n",
    "\n",
    "- Q6) Écrire un algorithme qui modélise ce carrefour, on utilisera une fonction croisement(f1,f2) qui prend en paramètres deux files f1 et f2 et qui retourne une file f3 contenant la file f3 des voitures sur la route R3\n"
   ]
  },
  {
   "cell_type": "code",
   "execution_count": 7,
   "metadata": {},
   "outputs": [],
   "source": [
    "def avancer_f1(f1, f3):\n",
    "    if f1.sommet() == 1:\n",
    "        f3.enfiler(f1.defiler())  \n",
    "    else:\n",
    "        f1.defiler() \n",
    "\n",
    "def avancer_f2(f2):\n",
    "    if f2.sommet() == 2:\n",
    "        f2.defiler() \n",
    "    else:\n",
    "        f2.defiler()\n",
    "\n",
    "def croisement(f1, f2):\n",
    "    f3 = File() \n",
    "    while not f1.vide() or not f2.vide():\n",
    "        if f1.vide() and not f2.vide():\n",
    "            avancer_f2(f2)\n",
    "\n",
    "        elif not f1.vide() and f2.vide():\n",
    "            avancer_f1(f1, f3)\n",
    "\n",
    "        else:\n",
    "            if f1.sommet() == 1 and f2.sommet() == 2:\n",
    "                avancer_f1(f1, f3)  \n",
    "                avancer_f2(f2)  \n",
    "            else:\n",
    "                avancer_f1(f1, f3)  \n",
    "                avancer_f2(f2)\n",
    "\n",
    "    return f3\n"
   ]
  },
  {
   "cell_type": "markdown",
   "metadata": {},
   "source": [
    "<h3 class='fa fa-code' style=\"color: MediumSeaGreen\"> A faire vous même n°7 :</h3>\n",
    "\n",
    "Réaliser le programme et tester le dans différents scénario..."
   ]
  },
  {
   "cell_type": "code",
   "execution_count": 12,
   "metadata": {},
   "outputs": [
    {
     "name": "stdout",
     "output_type": "stream",
     "text": [
      "Résultat du scénario 1 : [1, 1, 1]\n",
      "Résultat du scénario 2 : []\n"
     ]
    }
   ],
   "source": [
    "f1 = File()\n",
    "f1.enfiler(0)\n",
    "f1.enfiler(1)\n",
    "f1.enfiler(1)\n",
    "f1.enfiler(0)\n",
    "f1.enfiler(1)\n",
    "\n",
    "f2 = File()\n",
    "\n",
    "f3_resultat = croisement(f1, f2)\n",
    "print(\"Résultat du scénario 1 :\", f3_resultat.file)  \n",
    "\n",
    "\n",
    "f1 = File()\n",
    "\n",
    "f2 = File()\n",
    "f2.enfiler(0)\n",
    "f2.enfiler(2)\n",
    "f2.enfiler(2)\n",
    "f2.enfiler(2)\n",
    "f2.enfiler(0)\n",
    "f2.enfiler(2)\n",
    "f2.enfiler(0)\n",
    "\n",
    "f3_resultat = croisement(f1, f2)\n",
    "print(\"Résultat du scénario 2 :\", f3_resultat.file)"
   ]
  },
  {
   "cell_type": "markdown",
   "metadata": {},
   "source": [
    "<h2 class='fa fa-code' style=\"color: darkorange\"> Exercice d'application 2 : File et Pile</h2>\n",
    "\n",
    "On dispose d’une file, écrire une fonction qui renvoie la file inversée (l’élément de la tête sera situé à la queue et ainsi de suite) ;\n",
    "On utilisera une pile et seulement les méthodes associées aux piles et aux files."
   ]
  },
  {
   "cell_type": "code",
   "execution_count": null,
   "metadata": {},
   "outputs": [],
   "source": [
    "class File:\n",
    "    def __init__(self):\n",
    "        '''Initialisation d'une file vide'''\n",
    "        self.file = []\n",
    "\n",
    "    def vide(self):\n",
    "        '''Vérifie si la file est vide'''\n",
    "        return len(self.file) == 0\n",
    "\n",
    "    def defiler(self):\n",
    "        '''Défile'''\n",
    "        if not self.vide():\n",
    "            return self.file.pop(0)\n",
    "        else:\n",
    "            raise IndexError(\"La file est vide\")\n",
    "\n",
    "    def enfiler(self, x):\n",
    "        '''Enfile'''\n",
    "        self.file.append(x)\n",
    "\n",
    "    def inverser_file(self):\n",
    "        '''Fonction pour inverser la file en utilisant une pile'''\n",
    "        pile = []  \n",
    "\n",
    "        while not self.vide():\n",
    "            pile.append(self.defiler()) \n",
    "\n",
    "        while pile:\n",
    "            self.enfiler(pile.pop())"
   ]
  },
  {
   "cell_type": "markdown",
   "metadata": {},
   "source": [
    "****\n",
    "## Références aux programmes :\n",
    "\n",
    "<style type=\"text/css\">\n",
    ".tg  {border-collapse:collapse;border-spacing:0;}\n",
    ".tg td{font-family:Arial, sans-serif;font-size:14px;padding:10px 5px;border-style:solid;border-width:1px;overflow:hidden;word-break:normal;border-color:black;}\n",
    ".tg th{font-family:Arial, sans-serif;font-size:14px;font-weight:normal;padding:10px 5px;border-style:solid;border-width:1px;overflow:hidden;word-break:normal;border-color:black;}\n",
    ".tg .tg-cv16{font-weight:bold;background-color:#dae8fc;border-color:inherit;text-align:center}\n",
    ".tg .tg-xldj{border-color:inherit;text-align:left}\n",
    "</style>\n",
    "<h3 >Structures de données</h3> \n",
    "<table class=\"tg\">\n",
    "  <tr>\n",
    "    <th class=\"tg-cv16\">Contenus</th>\n",
    "    <th class=\"tg-cv16\">Capacités attendues</th>\n",
    "    <th class=\"tg-cv16\">Commentaires</th>\n",
    "  </tr>\n",
    "  <tr>\n",
    "    <td class=\"tg-xldj\">Listes, piles, files :<br>structures linéaires.<br>Dictionnaires, index et clé.\n",
    "</td>\n",
    "    <td class=\"tg-xldj\">Distinguer des structures par le jeu des méthodes qui les caractérisent.<br>Choisir une structure de données adaptée à la situation à modéliser.<br>Distinguer la recherche d’une valeur dans une liste et dans un dictionnaire.</td>\n",
    "    <td class=\"tg-xldj\">On distingue les modes FIFO (first in first out) et LIFO (last in first out) des piles et des files.</td>\n",
    "  </tr>\n",
    "    \n",
    "</table>\n",
    "\n"
   ]
  },
  {
   "cell_type": "markdown",
   "metadata": {},
   "source": [
    "<a rel=\"license\" href=\"http://creativecommons.org/licenses/by-sa/4.0/\"><img alt=\"Licence Creative Commons\" style=\"border-width:0\" src=\"https://i.creativecommons.org/l/by-sa/4.0/88x31.png\" /></a><br />Ce document, basé sur le travail de Stephan VAN ZUIJLEN, est mis à disposition selon les termes de la <a rel=\"license\" href=\"http://creativecommons.org/licenses/by-sa/4.0/\">Licence Creative Commons Attribution -  Partage dans les Mêmes Conditions 4.0 International</a>.\n",
    "\n",
    "Pour toute question, suggestion ou commentaire : <a href=\"mailto:eric.madec@ecmorlaix.fr\">eric.madec@ecmorlaix.fr</a>"
   ]
  },
  {
   "cell_type": "code",
   "execution_count": null,
   "metadata": {},
   "outputs": [],
   "source": []
  }
 ],
 "metadata": {
  "kernelspec": {
   "display_name": "Python 3 (ipykernel)",
   "language": "python",
   "name": "python3"
  },
  "toc": {
   "base_numbering": 1,
   "nav_menu": {},
   "number_sections": true,
   "sideBar": true,
   "skip_h1_title": false,
   "title_cell": "Table of Contents",
   "title_sidebar": "Contents",
   "toc_cell": false,
   "toc_position": {},
   "toc_section_display": true,
   "toc_window_display": false
  },
  "varInspector": {
   "cols": {
    "lenName": 16,
    "lenType": 16,
    "lenVar": 40
   },
   "kernels_config": {
    "python": {
     "delete_cmd_postfix": "",
     "delete_cmd_prefix": "del ",
     "library": "var_list.py",
     "varRefreshCmd": "print(var_dic_list())"
    },
    "r": {
     "delete_cmd_postfix": ") ",
     "delete_cmd_prefix": "rm(",
     "library": "var_list.r",
     "varRefreshCmd": "cat(var_dic_list()) "
    }
   },
   "types_to_exclude": [
    "module",
    "function",
    "builtin_function_or_method",
    "instance",
    "_Feature"
   ],
   "window_display": false
  }
 },
 "nbformat": 4,
 "nbformat_minor": 4
}
