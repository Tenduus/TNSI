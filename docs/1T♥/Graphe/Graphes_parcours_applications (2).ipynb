{
 "cells": [
  {
   "cell_type": "markdown",
   "metadata": {},
   "source": [
    "<h1><center><span style=\"color:#369;background:#fdf;padding: 10px 30px 10px 30px;border: 3px solid #369;border-radius:7px;\">TP parcours des graphes et applications</span></center></h1>"
   ]
  },
  {
   "cell_type": "markdown",
   "metadata": {},
   "source": [
    "## Objectif\n",
    "Nous allons utiliser la classe Graphe du dernier TP (celle avec le dictionnaire d'adjacence) puis implémenter les parcours en profondeur et en largeur et voir quelques applications de ces parcours."
   ]
  },
  {
   "cell_type": "markdown",
   "metadata": {},
   "source": [
    "## Parcours d'un graphe à la main\n",
    "On considère le graphe <code>G</code> suivant\n",
    "![graphes_parcours_0.png](https://ericecmorlaix.github.io/img/graphes_parcours_0.png)\n",
    "\n",
    "['H', 'D', 'A', 'B', 'E', 'C', 'I', 'G', 'F']"
   ]
  },
  {
   "cell_type": "markdown",
   "metadata": {},
   "source": [
    "<div style=\"padding:10px ;border:solid 4px lightblue; border-radius: 10px; background-color:aliceblue;\">\n",
    "\n",
    "### Question 1\n",
    "    \n",
    "On choisit de partir de A.\n",
    "    \n",
    "Réaliser à la main un parcours en largeur du graphe (on insérera dans la file les sommets par ordre alphabétique), en indiquant les états successifs de la file. Donner à la fin la liste des sommets parcourus."
   ]
  },
  {
   "cell_type": "raw",
   "metadata": {},
   "source": [
    "Réponse : (on pourra noter les sommets sans mettre de guillemets ou d'apostrophe : A à la place de 'A'\n",
    "A B C D E F g h I "
   ]
  },
  {
   "cell_type": "markdown",
   "metadata": {},
   "source": [
    "<div style=\"padding:10px ;border:solid 4px lightblue; border-radius: 10px; background-color:aliceblue;\">\n",
    "\n",
    "### Question 2\n",
    "    \n",
    "Même question en partant de H."
   ]
  },
  {
   "cell_type": "raw",
   "metadata": {},
   "source": [
    "Réponse :\n",
    "H D A B E F I C G"
   ]
  },
  {
   "cell_type": "markdown",
   "metadata": {},
   "source": [
    "<div style=\"padding:10px ;border:solid 4px lightblue; border-radius: 10px; background-color:aliceblue;\">\n",
    "\n",
    "### Question 3\n",
    "    \n",
    "Même question pour le parcours en profondeur (donc avec une pile) en partant de A."
   ]
  },
  {
   "cell_type": "raw",
   "metadata": {},
   "source": [
    "Réponse :\n",
    "A B F G C E I D H "
   ]
  },
  {
   "cell_type": "markdown",
   "metadata": {},
   "source": [
    "<div style=\"padding:10px ;border:solid 4px lightblue; border-radius: 10px; background-color:aliceblue;\">\n",
    "\n",
    "### Question 4\n",
    "    \n",
    "Même question en partant de H."
   ]
  },
  {
   "cell_type": "raw",
   "metadata": {},
   "source": [
    "Réponse :\n",
    "H D B F g C A E I"
   ]
  },
  {
   "cell_type": "markdown",
   "metadata": {},
   "source": [
    "## Implémentation des parcours\n",
    "On donne ci-dessous les classes <code>File</code>, <code>Pile</code> et <code>Graphe</code> dont on utilisera les méthodes. La classe Graphe utilise le dictionnaire d'adjacence.\n",
    "\n",
    "Exécuter les deux cellules suivantes."
   ]
  },
  {
   "cell_type": "code",
   "execution_count": null,
   "metadata": {},
   "outputs": [],
   "source": [
    "# Import de graphviz pour l'affichage des graphes.\n",
    "from graphviz import Graph"
   ]
  },
  {
   "cell_type": "code",
   "execution_count": 1,
   "metadata": {},
   "outputs": [],
   "source": [
    "class File:\n",
    "    '''Une implémentation basique à l'aide d'une liste python'''\n",
    "    def __init__(self):\n",
    "        self.liste=[]\n",
    "    def estVide(self):\n",
    "        return self.liste==[]\n",
    "    def enfile(self,e):\n",
    "        self.liste.append(e)\n",
    "    def defile(self):\n",
    "        return self.liste.pop(0)\n",
    "class Pile:\n",
    "    '''Une implémentation basique à l'aide d'une liste python'''\n",
    "    def __init__(self):\n",
    "        self.liste=[]\n",
    "    def estVide(self):\n",
    "        return self.liste==[]\n",
    "    def empile(self,e):\n",
    "        self.liste.append(e)\n",
    "    def depile(self):\n",
    "        return self.liste.pop()\n",
    "class Graphe:    \n",
    "    def __init__(self):\n",
    "        self.d = dict() # dictionnaire d'adjacence \n",
    "    def ajoute_sommet(self,s):\n",
    "        '''Ajoute le sommet s au graphe si celui-ci est un nouveau sommet''' \n",
    "        if s not in self.d :\n",
    "            self.d[s] = []\n",
    "    def ajoute_arete(self,s,t):\n",
    "        '''Ajoute si nécessaire les sommets s et t puis crée si elle n'existait pas une arête entre s et t'''\n",
    "        self.ajoute_sommet(s)\n",
    "        self.ajoute_sommet(t)\n",
    "        if t not in self.d[s]:\n",
    "            self.d[s].append(t)\n",
    "        if s not in self.d[t]:\n",
    "            self.d[t].append(s)\n",
    "    def arete(self,s,t):\n",
    "        '''Renvoie True s'il y a une arête entre s et t et False sinon'''\n",
    "        return (t in self.d[s])\n",
    "    def sommets(self):\n",
    "        '''Renvoie la liste de tous les sommets du graphe'''\n",
    "        return list(self.d.keys())\n",
    "    def voisins(self,s):\n",
    "        '''Renvoie la liste des voisins de s'''\n",
    "        return self.d[s]\n",
    "    def affiche(self): \n",
    "        \"Affichage du graphe en utilisant le module graphviz\"\n",
    "        dot = Graph('G')\n",
    "        for s in self.sommets():\n",
    "            for t in self.voisins(s): \n",
    "                # Condition pour éviter les doubles arêtes\n",
    "                if '{} -- {}'.format(t,s) not in dot.source:\n",
    "                    dot.edge(s,t)\n",
    "        return dot"
   ]
  },
  {
   "cell_type": "markdown",
   "metadata": {},
   "source": [
    "<div style=\"padding:10px ;border:solid 4px lightblue; border-radius: 10px; background-color:aliceblue;\">\n",
    "\n",
    "### Question 5\n",
    "    \n",
    "Compléter le code ci-dessous pour instancier et représenter le graphe G plus haut. La liste L est la liste des arêtes du graphe : s'en servir pour instancier le graphe."
   ]
  },
  {
   "cell_type": "code",
   "execution_count": 2,
   "metadata": {},
   "outputs": [],
   "source": [
    "L=[('A','B'),('A','C'),('A','D'),('A','E'),('B','C'),('B','D'),('B','F'),('C','E'),('C','G'),('D','E'),('D','H'),('E','I'),('F','G')]\n",
    "G=Graphe()\n",
    "# à compléter\n",
    "for i in L:\n",
    "    G.ajoute_arete(i[0], i[1])"
   ]
  },
  {
   "cell_type": "code",
   "execution_count": null,
   "metadata": {},
   "outputs": [],
   "source": [
    "L"
   ]
  },
  {
   "attachments": {
    "image.png": {
     "image/png": "[encoded data removed]"
    }
   },
   "cell_type": "markdown",
   "metadata": {},
   "source": [
    "<div style=\"padding:10px ;border:solid 4px lightblue; border-radius: 10px; background-color:aliceblue;\">\n",
    "\n",
    "### Question 6\n",
    "    \n",
    "On rappelle l'algorithme parcoursLargeur :\n",
    "\n",
    "![graphes_parcours_6.png](https://ericecmorlaix.github.io/img/graphes_parcours_6.png)\n",
    "\n",
    "Compléter la fonction parcoursLargeur ci-dessous et la tester"
   ]
  },
  {
   "cell_type": "code",
   "execution_count": 9,
   "metadata": {},
   "outputs": [],
   "source": [
    "def parcoursLargeur(G,s):\n",
    "    ''' In : un graphe G et un sommet s\n",
    "        Out: la liste du parcours en largeur'''\n",
    "    F=File()\n",
    "    L=[] # la liste des sommets visités que l'on va retourner\n",
    "    marque={s:False for s in G.sommets()}\n",
    "    F.enfile(s)\n",
    "    marque[s] = True\n",
    "    while not F.estVide() : \n",
    "        u = F.defile()\n",
    "        print(u)\n",
    "        L.append(u)\n",
    "        for v in G.voisins(u):\n",
    "            if marque[v] == False : \n",
    "                F.enfile(v) \n",
    "                marque[v] = True\n",
    "                \n",
    "    return L "
   ]
  },
  {
   "cell_type": "code",
   "execution_count": 10,
   "metadata": {},
   "outputs": [
    {
     "name": "stdout",
     "output_type": "stream",
     "text": [
      "A\n",
      "B\n",
      "C\n",
      "D\n",
      "E\n",
      "F\n",
      "G\n",
      "H\n",
      "I\n"
     ]
    },
    {
     "data": {
      "text/plain": [
       "['A', 'B', 'C', 'D', 'E', 'F', 'G', 'H', 'I']"
      ]
     },
     "execution_count": 10,
     "metadata": {},
     "output_type": "execute_result"
    }
   ],
   "source": [
    "# jeu de tests (on vérifiera les réponses aux questions 1 et 2)\n",
    "parcoursLargeur(G, \"A\")"
   ]
  },
  {
   "cell_type": "code",
   "execution_count": null,
   "metadata": {},
   "outputs": [],
   "source": [
    "parcoursLargeur(G, \"H\")"
   ]
  },
  {
   "cell_type": "code",
   "execution_count": null,
   "metadata": {
    "deletable": false,
    "editable": false
   },
   "outputs": [],
   "source": [
    "# Test des différentes méthodes précédentes\n",
    "# permet de voir que vos méthodes ont l'air correctes, c'est le cas si cette cellule ne renvoie pas d'erreur\n",
    "GTest=Graphe()\n",
    "for i in range(0,10,2):\n",
    "    for j in range(1,10,2):\n",
    "        GTest.ajoute_arete(i,j)\n",
    "assert parcoursLargeur(GTest,0)==[0, 1, 3, 5, 7, 9, 2, 4, 6, 8]\n",
    "assert parcoursLargeur(GTest,1)==[1, 0, 2, 4, 6, 8, 3, 5, 7, 9]"
   ]
  },
  {
   "cell_type": "markdown",
   "metadata": {},
   "source": [
    "<div style=\"padding:10px ;border:solid 4px lightblue; border-radius: 10px; background-color:aliceblue;\">\n",
    "\n",
    "### Question 7.1\n",
    "    \n",
    "On rappelle l'algorithme parcoursProfondeur :\n",
    "\n",
    "![graphes_parcours_7.png](https://ericecmorlaix.github.io/img/graphes_parcours_7.png)\n",
    "\n",
    "Compléter la fonction parcoursProfondeur ci-dessous et la tester"
   ]
  },
  {
   "cell_type": "code",
   "execution_count": 5,
   "metadata": {},
   "outputs": [],
   "source": [
    "def parcoursProfondeur(G,s):\n",
    "    ''' In : un graphe G et un sommet s\n",
    "        Out: la liste du parcours en profondeur'''\n",
    "    L = []\n",
    "    P = Pile()\n",
    "    P.empile(s)\n",
    "    marque={s:False for s in G.sommets()}\n",
    "    marque[s] = True\n",
    "    while not P.estVide() : \n",
    "        u = P.depile()\n",
    "        print(u)\n",
    "        L.append(u)\n",
    "        for v in G.voisins(u):\n",
    "            if marque[v] == False : \n",
    "                marque[v] = True\n",
    "                P.empile(v)\n",
    "         \n",
    "    return L"
   ]
  },
  {
   "cell_type": "code",
   "execution_count": 6,
   "metadata": {},
   "outputs": [
    {
     "name": "stdout",
     "output_type": "stream",
     "text": [
      "A\n",
      "E\n",
      "I\n",
      "D\n",
      "H\n",
      "C\n",
      "G\n",
      "F\n",
      "B\n"
     ]
    },
    {
     "data": {
      "text/plain": [
       "['A', 'E', 'I', 'D', 'H', 'C', 'G', 'F', 'B']"
      ]
     },
     "execution_count": 6,
     "metadata": {},
     "output_type": "execute_result"
    }
   ],
   "source": [
    "# jeu de tests (on vérifiera les réponses aux questions 1 et 2)\n",
    "parcoursProfondeur(G, \"A\")"
   ]
  },
  {
   "cell_type": "code",
   "execution_count": null,
   "metadata": {},
   "outputs": [],
   "source": [
    "parcoursProfondeur(G, \"H\")"
   ]
  },
  {
   "cell_type": "code",
   "execution_count": 12,
   "metadata": {
    "deletable": false,
    "editable": false
   },
   "outputs": [
    {
     "name": "stdout",
     "output_type": "stream",
     "text": [
      "0\n",
      "9\n",
      "8\n",
      "6\n",
      "4\n",
      "2\n",
      "7\n",
      "5\n",
      "3\n",
      "1\n",
      "1\n",
      "8\n",
      "9\n",
      "7\n",
      "5\n",
      "3\n",
      "6\n",
      "4\n",
      "2\n",
      "0\n"
     ]
    }
   ],
   "source": [
    "# Test des différentes méthodes précédentes\n",
    "# permet de voir que vos méthodes ont l'air correctes, c'est le cas si cette cellule ne renvoie pas d'erreur\n",
    "GTest=Graphe()\n",
    "for i in range(0,10,2):\n",
    "    for j in range(1,10,2):\n",
    "        GTest.ajoute_arete(i,j)\n",
    "assert parcoursProfondeur(GTest,0)==[0, 9, 8, 6, 4, 2, 7, 5, 3, 1]\n",
    "assert parcoursProfondeur(GTest,1)==[1, 8, 9, 7, 5, 3, 6, 4, 2, 0]"
   ]
  },
  {
   "cell_type": "markdown",
   "metadata": {},
   "source": [
    "<div style=\"padding:10px ;border:solid 4px lightblue; border-radius: 10px; background-color:aliceblue;\">\n",
    "\n",
    "### Question 7.2\n",
    "    \n",
    "Compléter la version récursive du parcours en profondeur ci-dessous et la tester (attention, le parcours ne sera pas le même que ParcoursProfondeur, mais le but est de parcourir tous les sommets du graphe)\n",
    "    \n",
    "La liste dejaVu qui est en paramètre va se remplir peu à peu, c'est elle que l'on retournera"
   ]
  },
  {
   "cell_type": "code",
   "execution_count": 13,
   "metadata": {},
   "outputs": [],
   "source": [
    "def parcoursProfondeur_rec(G,s,dejaVu=[]):\n",
    "    ''' In : un graphe G, un sommet s, une liste des sommets déjà visités\n",
    "        Out: la liste du parcours en profondeur'''\n",
    "    dejaVu.append(s) # on commence par dire que s a été visité\n",
    "    for v in G.voisins(s):# pour tous les voisins v de s\n",
    "        if not (v in dejaVu):# si v n'a pas été visité\n",
    "            parcoursProfondeur_rec(G,v,dejaVu) # on parcourt récursivement à partir de v\n",
    "    return dejaVu"
   ]
  },
  {
   "cell_type": "code",
   "execution_count": null,
   "metadata": {},
   "outputs": [],
   "source": []
  },
  {
   "cell_type": "code",
   "execution_count": 14,
   "metadata": {
    "deletable": false,
    "editable": false
   },
   "outputs": [],
   "source": [
    "# Test des différentes méthodes précédentes\n",
    "# permet de voir que vos méthodes ont l'air correctes, c'est le cas si cette cellule ne renvoie pas d'erreur\n",
    "GTest=Graphe()\n",
    "for i in range(0,10,2):\n",
    "    for j in range(1,10,2):\n",
    "        GTest.ajoute_arete(i,j)\n",
    "assert parcoursProfondeur_rec(GTest,0,[])==[0, 1, 2, 3, 4, 5, 6, 7, 8, 9]\n",
    "assert parcoursProfondeur_rec(GTest,1,[])==[1, 0, 3, 2, 5, 4, 7, 6, 9, 8]"
   ]
  },
  {
   "cell_type": "markdown",
   "metadata": {},
   "source": [
    "## 1ère application d'un parcours : détecter si un graphe est connexe ou pas"
   ]
  },
  {
   "cell_type": "markdown",
   "metadata": {},
   "source": [
    "<div style=\"padding:10px ;border:solid 4px lightblue; border-radius: 10px; background-color:aliceblue;\">\n",
    "\n",
    "### Question 8\n",
    "    \n",
    "A l'image de l'instanciation du graphe G fait plus haut, créer un graphe G1 non connexe et le dessiner"
   ]
  },
  {
   "cell_type": "code",
   "execution_count": null,
   "metadata": {},
   "outputs": [],
   "source": [
    "#A completer sur VS"
   ]
  },
  {
   "cell_type": "markdown",
   "metadata": {},
   "source": [
    "<div style=\"padding:10px ;border:solid 4px lightblue; border-radius: 10px; background-color:aliceblue;\">\n",
    "\n",
    "### Question 9\n",
    "    \n",
    "Compléter la fonction suivante qui teste si un graphe est connexe ou pas, puis la tester.\n",
    "    \n",
    "<details style =\"background-color: Silver;\">\n",
    "   <summary > Cliquez ici pour un indice  </summary>\n",
    "il suffit de reprendre un des parcours vus, de choisir un sommet quelconque s et de comparer ...\n",
    "</details>\n",
    "</div>"
   ]
  },
  {
   "cell_type": "code",
   "execution_count": null,
   "metadata": {},
   "outputs": [],
   "source": [
    "def estConnexe(G):\n",
    "    ''' In : un graphe G non vide\n",
    "        Out: True si G est connexe, False sinon'''\n",
    "    pass\n"
   ]
  },
  {
   "cell_type": "code",
   "execution_count": null,
   "metadata": {},
   "outputs": [],
   "source": [
    "# Jeu de tests de la fonction estConnexe\n"
   ]
  },
  {
   "cell_type": "code",
   "execution_count": null,
   "metadata": {},
   "outputs": [],
   "source": []
  },
  {
   "cell_type": "code",
   "execution_count": null,
   "metadata": {
    "deletable": false,
    "editable": false
   },
   "outputs": [],
   "source": [
    "# Test des différentes méthodes précédentes\n",
    "# permet de voir que vos méthodes ont l'air correctes, c'est le cas si cette cellule ne renvoie pas d'erreur\n",
    "GTest=Graphe()\n",
    "for i in range(0,10,2):\n",
    "    for j in range(1,10,2):\n",
    "        GTest.ajoute_arete(i,j)\n",
    "GTestBis=Graphe()\n",
    "for i in range(9):\n",
    "    for j in range(i+1,10):\n",
    "        GTestBis.ajoute_arete(i,j)\n",
    "for i in range(10,19):\n",
    "    for j in range(i+1,20):\n",
    "        GTestBis.ajoute_arete(i,j) \n",
    "assert estConnexe(GTest)==True\n",
    "assert estConnexe(GTestBis)==False"
   ]
  },
  {
   "cell_type": "markdown",
   "metadata": {},
   "source": [
    "## Application du parcours en largeur : calculer la distance entre 2 sommets\n",
    "On rappelle que la distance entre deux sommets s et t d'un graphe non orienté est la longueur de la plus petite chaîne reliant  s et t"
   ]
  },
  {
   "cell_type": "markdown",
   "metadata": {},
   "source": [
    "<div style=\"padding:10px ;border:solid 4px lightblue; border-radius: 10px; background-color:aliceblue;\">\n",
    "\n",
    "### Question 10\n",
    "    \n",
    "Compléter la fonction suivante qui renvoie le dictionnaire donnant les distances entre un sommet s donné et tous les autres sommets du graphe atteignables par s"
   ]
  },
  {
   "cell_type": "code",
   "execution_count": null,
   "metadata": {},
   "outputs": [],
   "source": [
    "def distances(G,s):\n",
    "    ''' In : un graphe G non orienté et un sommet s\n",
    "        Out: le dictionnaire donnant la distance entre s et les autres sommets atteignables par s'''\n",
    "    F=File()\n",
    "    d=dict() # le dictionnaire en question\n",
    "    F.enfile(s)\n",
    "    d[s]=0 # la distance de s à s est 0, cela permet également de marquer s\n",
    "    pass"
   ]
  },
  {
   "cell_type": "code",
   "execution_count": null,
   "metadata": {},
   "outputs": [],
   "source": [
    "# Jeu de tests de la fonction distances\n"
   ]
  },
  {
   "cell_type": "code",
   "execution_count": null,
   "metadata": {},
   "outputs": [],
   "source": []
  },
  {
   "cell_type": "code",
   "execution_count": null,
   "metadata": {},
   "outputs": [],
   "source": [
    "# Test des différentes méthodes précédentes\n",
    "# permet de voir que vos méthodes ont l'air correctes, c'est le cas si cette cellule ne renvoie pas d'erreur\n",
    "GTest=Graphe()\n",
    "for i in range(0,10,2):\n",
    "    for j in range(1,10,2):\n",
    "        GTest.ajoute_arete(i,j)\n",
    "assert distances(GTest,0)=={0: 0, 1: 1, 3: 1, 5: 1, 7: 1, 9: 1, 2: 2, 4: 2, 6: 2, 8: 2}\n",
    "assert distances(GTest,1)=={1: 0, 0: 1, 2: 1, 4: 1, 6: 1, 8: 1, 3: 2, 5: 2, 7: 2, 9: 2}"
   ]
  },
  {
   "cell_type": "markdown",
   "metadata": {},
   "source": [
    "## Application du parcours en profondeur : détecter un cycle"
   ]
  },
  {
   "cell_type": "markdown",
   "metadata": {},
   "source": [
    "<div style=\"padding:10px ;border:solid 4px lightblue; border-radius: 10px; background-color:aliceblue;\">\n",
    "\n",
    "### Question 11\n",
    "    \n",
    "A l'image de l'instanciation du graphe G fait plus haut, créer un graphe G2 acyclique (càd sans cycle), par exemple un arbre et le dessiner"
   ]
  },
  {
   "cell_type": "code",
   "execution_count": null,
   "metadata": {},
   "outputs": [],
   "source": [
    "G2=Graphe()\n",
    "# à compléter"
   ]
  },
  {
   "attachments": {
    "image.png": {
     "image/png": "[encoded data removed]"
    }
   },
   "cell_type": "markdown",
   "metadata": {},
   "source": [
    "<div style=\"padding:10px ;border:solid 4px lightblue; border-radius: 10px; background-color:aliceblue;\">\n",
    "\n",
    "### Question 12\n",
    "\n",
    "On donne l'algorithme détectionCycle :\n",
    "\n",
    "![graphes_parcours_12.png](https://ericecmorlaix.github.io/img/graphes_parcours_12.png)\n",
    "   \n",
    "Adapter cet algorithme (pour qu'il puisse fonctionner avec des sommets autres que des entiers de 0 à n) en prenant non pas une liste de prédecesseurs mais un dictionnaire puis compléter la fonction suivante qui détecte s'il y a un cycle ou non, et enfin la tester"
   ]
  },
  {
   "cell_type": "code",
   "execution_count": null,
   "metadata": {},
   "outputs": [],
   "source": [
    "def detectionCycle(G,s):\n",
    "    ''' In : un graphe G non orienté et un sommet s\n",
    "        Out: True s'il n'y a pas de cycle atteignable par s, et False sinon'''\n",
    "    P=Pile()\n",
    "    Pred=dict() # le dictionnaire des prédecesseurs (inutile d'initialiser à -1 puisqu'il est vide)\n",
    "    P.empile(s)\n",
    "    Pred[s]=s\n",
    "    pass"
   ]
  },
  {
   "cell_type": "code",
   "execution_count": null,
   "metadata": {},
   "outputs": [],
   "source": [
    "# Jeu de tests de la fonction detectionCycle\n"
   ]
  },
  {
   "cell_type": "code",
   "execution_count": null,
   "metadata": {},
   "outputs": [],
   "source": []
  },
  {
   "cell_type": "code",
   "execution_count": null,
   "metadata": {},
   "outputs": [],
   "source": []
  },
  {
   "cell_type": "code",
   "execution_count": null,
   "metadata": {},
   "outputs": [],
   "source": [
    "# Test des différentes méthodes précédentes\n",
    "# permet de voir que vos méthodes ont l'air correctes, c'est le cas si cette cellule ne renvoie pas d'erreur\n",
    "GTest=Graphe()\n",
    "for i in range(0,20,2):\n",
    "    GTest.ajoute_arete(i,i+1)\n",
    "    GTest.ajoute_arete(i+1,i+2)\n",
    "assert detectionCycle(GTest,0)==False\n",
    "GTest.ajoute_arete(0,19)\n",
    "assert detectionCycle(GTest,0)==True"
   ]
  },
  {
   "cell_type": "markdown",
   "metadata": {},
   "source": [
    "<div style=\"padding:10px ;border:solid 4px lightblue; border-radius: 10px; background-color:aliceblue;\">\n",
    "\n",
    "### Question 13\n",
    "\n",
    "Compléter la fonction suivante qui teste si le graphe donné est un arbre ou pas.\n",
    "\n",
    "Challenge : à faire sur 1 seule ligne (si c'est possible en utilisant les fonctions précédentes et sans compter la docstring évidemment)"
   ]
  },
  {
   "cell_type": "code",
   "execution_count": null,
   "metadata": {},
   "outputs": [],
   "source": [
    "def estUnArbre(G):\n",
    "    ''' In : un graphe G non orienté\n",
    "        Out: True si G est un arbre et False sinon'''\n",
    "    pass"
   ]
  },
  {
   "cell_type": "code",
   "execution_count": null,
   "metadata": {},
   "outputs": [],
   "source": [
    "# Jeu de tests de la fonction estUnArbre\n"
   ]
  },
  {
   "cell_type": "code",
   "execution_count": null,
   "metadata": {},
   "outputs": [],
   "source": []
  },
  {
   "cell_type": "code",
   "execution_count": null,
   "metadata": {},
   "outputs": [],
   "source": []
  },
  {
   "cell_type": "code",
   "execution_count": null,
   "metadata": {},
   "outputs": [],
   "source": [
    "# Test des différentes méthodes précédentes\n",
    "# permet de voir que vos méthodes ont l'air correctes, c'est le cas si cette cellule ne renvoie pas d'erreur\n",
    "GTest=Graphe()\n",
    "for i in range(0,20,2):\n",
    "    GTest.ajoute_arete(i,i+1)\n",
    "    GTest.ajoute_arete(i+1,i+2)\n",
    "assert estUnArbre(GTest)==True\n",
    "GTest.ajoute_arete(0,19)\n",
    "assert estUnArbre(GTest)==False\n",
    "GTestBis=Graphe()\n",
    "for i in range(9):\n",
    "    for j in range(i+1,10):\n",
    "        GTestBis.ajoute_arete(i,j)\n",
    "for i in range(10,19):\n",
    "    for j in range(i+1,20):\n",
    "        GTestBis.ajoute_arete(i,j) \n",
    "assert estUnArbre(GTestBis)==False"
   ]
  },
  {
   "cell_type": "markdown",
   "metadata": {},
   "source": [
    "<div style=\"padding:10px ;border:solid 4px lightblue; border-radius: 10px; background-color:aliceblue;\">\n",
    "\n",
    "### Question 14\n",
    "\n",
    "Représenter le graphe donné en cours noté G3 en vous aidant de son dictionnaire d'adjacence donné ci-dessous"
   ]
  },
  {
   "cell_type": "code",
   "execution_count": null,
   "metadata": {},
   "outputs": [],
   "source": [
    "d3={'0': ['1', '2', '8'], '1': ['0', '4', '5'], '2': ['0', '4', '5'], '3': ['5', '6'], '4': ['1', '2', '8'], '5': ['1', '2', '3', '7', '8'], '6': ['3', '8', '9'], '7': ['5', '8'], '8': ['0', '4', '5', '6', '7'], '9': ['6']}\n",
    "G3=Graphe()\n",
    "# à compléter"
   ]
  },
  {
   "cell_type": "markdown",
   "metadata": {},
   "source": [
    "<div style=\"padding:10px ;border:solid 4px lightblue; border-radius: 10px; background-color:aliceblue;\">\n",
    "\n",
    "### Question 15\n",
    "\n",
    "Compléter la fonction suivante (seulement 2 lignes) qui renvoie une chaîne contenant le 1er cycle détecté en partant d'un sommet s donné"
   ]
  },
  {
   "cell_type": "code",
   "execution_count": null,
   "metadata": {},
   "outputs": [],
   "source": [
    "def premierCycle(G,s):\n",
    "    ''' In : un graphe G non orienté et un sommet s\n",
    "        Out: renvoie sous forme de liste une chaîne contenant le 1er cycle détecté atteignable par s\n",
    "             Si G n'a pas de cycle, renvoie une liste vide'''\n",
    "    P=Pile()\n",
    "    Pred=dict() # le dictionnaire des prédecesseurs (inutile d'initialiser à -1 puisqu'il est vide)\n",
    "    P.empile(s)\n",
    "    Pred[s]=s\n",
    "    while not P.estVide():\n",
    "        u=P.depile()\n",
    "        for v in G.voisins(u):\n",
    "            if not (v in Pred):\n",
    "                Pred[v]=u\n",
    "                P.empile(v)\n",
    "            elif v!=Pred[u]:# Le cycle est alors s-....-Pred[u]-u-v-Pred[v]-...-s\n",
    "                # on cherche tous les sommets : u - Pred[u] - ... - s\n",
    "                L=[u]\n",
    "                sommet_courant=u\n",
    "                while sommet_courant!=s:\n",
    "                    sommet_courant=...\n",
    "                    L.append(sommet_courant)\n",
    "                # maintenant, on cherche tous les sommets : v - Pred[v] - ... - s\n",
    "                sommet_courant=v\n",
    "                while sommet_courant!=s:\n",
    "                    L.insert(0,sommet_courant) # pour insérer par la gauche\n",
    "                    sommet_courant=...\n",
    "                return L\n",
    "    return []"
   ]
  },
  {
   "cell_type": "code",
   "execution_count": null,
   "metadata": {},
   "outputs": [],
   "source": [
    "# Jeu de tests (on pensera à tester le graphe G3 pour vérifier l'exercice 17 du cours)\n"
   ]
  },
  {
   "cell_type": "code",
   "execution_count": null,
   "metadata": {},
   "outputs": [],
   "source": []
  },
  {
   "cell_type": "code",
   "execution_count": null,
   "metadata": {},
   "outputs": [],
   "source": []
  },
  {
   "cell_type": "code",
   "execution_count": null,
   "metadata": {},
   "outputs": [],
   "source": []
  },
  {
   "cell_type": "code",
   "execution_count": null,
   "metadata": {},
   "outputs": [],
   "source": []
  },
  {
   "cell_type": "code",
   "execution_count": null,
   "metadata": {},
   "outputs": [],
   "source": []
  },
  {
   "cell_type": "code",
   "execution_count": null,
   "metadata": {},
   "outputs": [],
   "source": []
  },
  {
   "cell_type": "code",
   "execution_count": null,
   "metadata": {},
   "outputs": [],
   "source": [
    "# Test des différentes méthodes précédentes\n",
    "# permet de voir que vos méthodes ont l'air correctes, c'est le cas si cette cellule ne renvoie pas d'erreur\n",
    "GTest=Graphe()\n",
    "for i in range(0,20,2):\n",
    "    GTest.ajoute_arete(i,i+1)\n",
    "    GTest.ajoute_arete(i+1,i+2)\n",
    "assert premierCycle(GTest,0)==[]\n",
    "GTest.ajoute_arete(0,19)\n",
    "assert premierCycle(GTest,0)==[1, 2, 3, 4, 5, 6, 7, 8, 9, 10, 11, 12, 13, 14, 15, 16, 17, 18, 19, 0]"
   ]
  },
  {
   "cell_type": "code",
   "execution_count": null,
   "metadata": {},
   "outputs": [],
   "source": []
  }
 ],
 "metadata": {
  "celltoolbar": "Éditer les Méta-Données",
  "kernelspec": {
   "display_name": "Python 3",
   "language": "python",
   "name": "python3"
  },
  "language_info": {
   "codemirror_mode": {
    "name": "ipython",
    "version": 3
   },
   "file_extension": ".py",
   "mimetype": "text/x-python",
   "name": "python",
   "nbconvert_exporter": "python",
   "pygments_lexer": "ipython3",
   "version": "3.10.8"
  },
  "varInspector": {
   "cols": {
    "lenName": 16,
    "lenType": 16,
    "lenVar": 40
   },
   "kernels_config": {
    "python": {
     "delete_cmd_postfix": "",
     "delete_cmd_prefix": "del ",
     "library": "var_list.py",
     "varRefreshCmd": "print(var_dic_list())"
    },
    "r": {
     "delete_cmd_postfix": ") ",
     "delete_cmd_prefix": "rm(",
     "library": "var_list.r",
     "varRefreshCmd": "cat(var_dic_list()) "
    }
   },
   "types_to_exclude": [
    "module",
    "function",
    "builtin_function_or_method",
    "instance",
    "_Feature"
   ],
   "window_display": false
  }
 },
 "nbformat": 4,
 "nbformat_minor": 2
}
