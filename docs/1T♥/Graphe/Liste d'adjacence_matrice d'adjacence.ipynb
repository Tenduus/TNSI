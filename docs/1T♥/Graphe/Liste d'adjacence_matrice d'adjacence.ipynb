{
 "cells": [
  {
   "cell_type": "markdown",
   "metadata": {},
   "source": [
    "## I) Passage matrice vers dictionnaire"
   ]
  },
  {
   "cell_type": "code",
   "execution_count": 13,
   "metadata": {},
   "outputs": [],
   "source": [
    "def matrice_vers_dict(matrice):\n",
    "    d = {}\n",
    "    for i in range(len(matrice)):\n",
    "        d[i] = []\n",
    "        for j in range(len(matrice[i])):\n",
    "            if matrice[i][j] == 1:\n",
    "                d[i].append(matrice[i][j])\n",
    "    return d\n"
   ]
  },
  {
   "cell_type": "code",
   "execution_count": 14,
   "metadata": {},
   "outputs": [
    {
     "data": {
      "text/plain": [
       "{0: [1, 1], 1: [1, 1, 1], 2: [1, 1, 1], 3: [1, 1]}"
      ]
     },
     "execution_count": 14,
     "metadata": {},
     "output_type": "execute_result"
    }
   ],
   "source": [
    "m = [[0, 1, 1, 0], [1, 0, 1, 1], [1, 1, 0, 1], [0, 1, 1, 0]]\n",
    "matrice_vers_dict(m)"
   ]
  },
  {
   "cell_type": "markdown",
   "metadata": {},
   "source": [
    "## II) Passage matrice vers liste"
   ]
  },
  {
   "cell_type": "code",
   "execution_count": 1,
   "metadata": {},
   "outputs": [],
   "source": [
    "def matrice_vers_liste(matrice):\n",
    "    liste = []\n",
    "    for i in range(len(matrice)):\n",
    "        voisins = []\n",
    "        for j in range(len(matrice[i])):\n",
    "            if matrice[i][j] == 1:  # Vérifie si la connexion existe\n",
    "                voisins.append(j)\n",
    "        liste.append(voisins)\n",
    "    return liste"
   ]
  },
  {
   "cell_type": "code",
   "execution_count": 2,
   "metadata": {},
   "outputs": [
    {
     "name": "stdout",
     "output_type": "stream",
     "text": [
      "[[1, 2], [0, 2, 3], [0, 1, 3], [1, 2]]\n"
     ]
    }
   ],
   "source": [
    "m = [[0, 1, 1, 0], [1, 0, 1, 1], [1, 1, 0, 1], [0, 1, 1, 0]]\n",
    "print(matrice_vers_liste(m))"
   ]
  },
  {
   "cell_type": "markdown",
   "metadata": {},
   "source": [
    "## III) Passage dictionnaire vers matrice"
   ]
  },
  {
   "cell_type": "code",
   "execution_count": 3,
   "metadata": {},
   "outputs": [],
   "source": [
    "def dict_vers_matrice(dictionnaire):\n",
    "    n = len(dictionnaire)\n",
    "    matrice = [[0] * n for _ in range(n)] \n",
    "    for sommet, successeurs in dictionnaire.items():\n",
    "        for successeur in successeurs:\n",
    "            matrice[sommet][successeur] = 1 \n",
    "    return matrice"
   ]
  },
  {
   "cell_type": "code",
   "execution_count": 4,
   "metadata": {},
   "outputs": [
    {
     "name": "stdout",
     "output_type": "stream",
     "text": [
      "[[0, 1, 1, 0], [1, 0, 1, 1], [1, 1, 0, 1], [0, 1, 1, 0]]\n"
     ]
    }
   ],
   "source": [
    "dico = {0: [1, 2], 1: [0, 2, 3], 2: [0, 1, 3], 3: [1, 2]}\n",
    "print(dict_vers_matrice(dico))"
   ]
  },
  {
   "cell_type": "markdown",
   "metadata": {},
   "source": [
    "## IV) Passage liste vers matrice"
   ]
  },
  {
   "cell_type": "code",
   "execution_count": 5,
   "metadata": {},
   "outputs": [],
   "source": [
    "def liste_vers_matrice(liste):\n",
    "    n = len(liste)\n",
    "    matrice = [n * [0] for i in range(n)]\n",
    "    for sommet in range(n):\n",
    "        for successeur in liste[sommet]:\n",
    "            matrice[sommet][successeur] = 1\n",
    "    return matrice"
   ]
  },
  {
   "cell_type": "code",
   "execution_count": 6,
   "metadata": {},
   "outputs": [
    {
     "name": "stdout",
     "output_type": "stream",
     "text": [
      "[[0, 1, 1, 0], [1, 0, 1, 1], [1, 1, 0, 1], [0, 1, 1, 0]]\n"
     ]
    }
   ],
   "source": [
    "# Test de la fonction\n",
    "liste = [[1, 2], [0, 2, 3], [0, 1, 3], [1, 2]]\n",
    "print(liste_vers_matrice(liste))"
   ]
  },
  {
   "cell_type": "markdown",
   "metadata": {},
   "source": [
    "# Ex Facile"
   ]
  },
  {
   "cell_type": "code",
   "execution_count": 3,
   "metadata": {},
   "outputs": [],
   "source": [
    "def est_circulaire(distribution):\n",
    "    personnes = [prenom for prenom in distribution]\n",
    "    premiere = personnes[0]\n",
    "    destinataire = distribution[personnes[0]]  \n",
    "    nb_destinataires = 1\n",
    "\n",
    "    while destinataire != premiere:\n",
    "        destinataire = distribution[personnes[nb_destinataires]]  \n",
    "        nb_destinataires += 1  \n",
    "\n",
    "    return nb_destinataires == len(personnes)"
   ]
  },
  {
   "cell_type": "code",
   "execution_count": 4,
   "metadata": {},
   "outputs": [
    {
     "ename": "AssertionError",
     "evalue": "",
     "output_type": "error",
     "traceback": [
      "\u001b[0;31m---------------------------------------------------------------------------\u001b[0m",
      "\u001b[0;31mAssertionError\u001b[0m                            Traceback (most recent call last)",
      "Cell \u001b[0;32mIn[4], line 17\u001b[0m\n\u001b[1;32m      1\u001b[0m distribution_a \u001b[38;5;241m=\u001b[39m {\n\u001b[1;32m      2\u001b[0m     \u001b[38;5;124m\"\u001b[39m\u001b[38;5;124mAnne\u001b[39m\u001b[38;5;124m\"\u001b[39m: \u001b[38;5;124m\"\u001b[39m\u001b[38;5;124mElodie\u001b[39m\u001b[38;5;124m\"\u001b[39m,\n\u001b[1;32m      3\u001b[0m     \u001b[38;5;124m\"\u001b[39m\u001b[38;5;124mBruno\u001b[39m\u001b[38;5;124m\"\u001b[39m: \u001b[38;5;124m\"\u001b[39m\u001b[38;5;124mFidel\u001b[39m\u001b[38;5;124m\"\u001b[39m,\n\u001b[0;32m   (...)\u001b[0m\n\u001b[1;32m      7\u001b[0m     \u001b[38;5;124m\"\u001b[39m\u001b[38;5;124mFidel\u001b[39m\u001b[38;5;124m\"\u001b[39m: \u001b[38;5;124m\"\u001b[39m\u001b[38;5;124mAnne\u001b[39m\u001b[38;5;124m\"\u001b[39m,\n\u001b[1;32m      8\u001b[0m }\n\u001b[1;32m      9\u001b[0m distribution_b \u001b[38;5;241m=\u001b[39m {\n\u001b[1;32m     10\u001b[0m     \u001b[38;5;124m\"\u001b[39m\u001b[38;5;124mAnne\u001b[39m\u001b[38;5;124m\"\u001b[39m: \u001b[38;5;124m\"\u001b[39m\u001b[38;5;124mClaude\u001b[39m\u001b[38;5;124m\"\u001b[39m,\n\u001b[1;32m     11\u001b[0m     \u001b[38;5;124m\"\u001b[39m\u001b[38;5;124mBruno\u001b[39m\u001b[38;5;124m\"\u001b[39m: \u001b[38;5;124m\"\u001b[39m\u001b[38;5;124mFidel\u001b[39m\u001b[38;5;124m\"\u001b[39m,\n\u001b[0;32m   (...)\u001b[0m\n\u001b[1;32m     15\u001b[0m     \u001b[38;5;124m\"\u001b[39m\u001b[38;5;124mFidel\u001b[39m\u001b[38;5;124m\"\u001b[39m: \u001b[38;5;124m\"\u001b[39m\u001b[38;5;124mDenis\u001b[39m\u001b[38;5;124m\"\u001b[39m,\n\u001b[1;32m     16\u001b[0m }\n\u001b[0;32m---> 17\u001b[0m \u001b[38;5;28;01massert\u001b[39;00m est_circulaire(distribution_a) \u001b[38;5;129;01mis\u001b[39;00m \u001b[38;5;28;01mFalse\u001b[39;00m\n\u001b[1;32m     18\u001b[0m \u001b[38;5;28;01massert\u001b[39;00m est_circulaire(distribution_b) \u001b[38;5;129;01mis\u001b[39;00m \u001b[38;5;28;01mTrue\u001b[39;00m\n",
      "\u001b[0;31mAssertionError\u001b[0m: "
     ]
    }
   ],
   "source": [
    "distribution_a = {\n",
    "    \"Anne\": \"Elodie\",\n",
    "    \"Bruno\": \"Fidel\",\n",
    "    \"Claude\": \"Denis\",\n",
    "    \"Denis\": \"Claude\",\n",
    "    \"Elodie\": \"Bruno\",\n",
    "    \"Fidel\": \"Anne\",\n",
    "}\n",
    "distribution_b = {\n",
    "    \"Anne\": \"Claude\",\n",
    "    \"Bruno\": \"Fidel\",\n",
    "    \"Claude\": \"Elodie\",\n",
    "    \"Denis\": \"Anne\",\n",
    "    \"Elodie\": \"Bruno\",\n",
    "    \"Fidel\": \"Denis\",\n",
    "}\n",
    "assert est_circulaire(distribution_a) is False\n",
    "assert est_circulaire(distribution_b) is True"
   ]
  },
  {
   "cell_type": "markdown",
   "metadata": {},
   "source": [
    "# Ex : Les amis de mes amis"
   ]
  },
  {
   "cell_type": "code",
   "execution_count": 5,
   "metadata": {},
   "outputs": [],
   "source": [
    "def amis_d_amis(reseau, membre):\n",
    "    resultat = []\n",
    "    for ami in reseau[membre]:\n",
    "        for ami_de_ami in reseau[ami]:\n",
    "            if ami_de_ami != membre and ami_de_ami not in resultat:\n",
    "                resultat.append(ami_de_ami)\n",
    "    return resultat"
   ]
  },
  {
   "cell_type": "code",
   "execution_count": null,
   "metadata": {},
   "outputs": [],
   "source": [
    "immediam = {\n",
    "    \"Anna\": [\"Billy\"],\n",
    "    \"Billy\": [\"Anna\", \"Eroll\"],\n",
    "    \"Carl\": [\"Billy\"],\n",
    "    \"Dora\": [\"Gaby\"],\n",
    "    \"Eroll\": [\"Billy\", \"Dora\", \"Flynn\", \"Gaby\"],\n",
    "    \"Flynn\": [\"Gaby\"],\n",
    "    \"Gaby\": [\"Eroll\"],\n",
    "}\n",
    "assert sorted(amis_d_amis(immediam, \"Billy\")) == [\"Dora\", \"Flynn\", \"Gaby\"]\n",
    "assert sorted(amis_d_amis(immediam, \"Eroll\")) == [\"Anna\", \"Gaby\"]\n",
    "assert sorted(amis_d_amis(immediam, \"Dora\")) == [\"Eroll\"]\n"
   ]
  }
 ],
 "metadata": {
  "kernelspec": {
   "display_name": "Python 3",
   "language": "python",
   "name": "python3"
  },
  "language_info": {
   "codemirror_mode": {
    "name": "ipython",
    "version": 3
   },
   "file_extension": ".py",
   "mimetype": "text/x-python",
   "name": "python",
   "nbconvert_exporter": "python",
   "pygments_lexer": "ipython3",
   "version": "3.10.8"
  }
 },
 "nbformat": 4,
 "nbformat_minor": 2
}
