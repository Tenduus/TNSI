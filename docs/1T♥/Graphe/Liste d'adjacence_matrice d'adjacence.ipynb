{
 "cells": [
  {
   "cell_type": "markdown",
   "metadata": {},
   "source": [
    "## I) Passage matrice vers dictionnaire"
   ]
  },
  {
   "cell_type": "code",
   "execution_count": 13,
   "metadata": {},
   "outputs": [],
   "source": [
    "def matrice_vers_dict(matrice):\n",
    "    d = {}\n",
    "    for i in range(len(matrice)):\n",
    "        d[i] = []\n",
    "        for j in range(len(matrice[i])):\n",
    "            if matrice[i][j] == 1:\n",
    "                d[i].append(matrice[i][j])\n",
    "    return d\n"
   ]
  },
  {
   "cell_type": "code",
   "execution_count": 14,
   "metadata": {},
   "outputs": [
    {
     "data": {
      "text/plain": [
       "{0: [1, 1], 1: [1, 1, 1], 2: [1, 1, 1], 3: [1, 1]}"
      ]
     },
     "execution_count": 14,
     "metadata": {},
     "output_type": "execute_result"
    }
   ],
   "source": [
    "m = [[0, 1, 1, 0], [1, 0, 1, 1], [1, 1, 0, 1], [0, 1, 1, 0]]\n",
    "matrice_vers_dict(m)"
   ]
  },
  {
   "cell_type": "markdown",
   "metadata": {},
   "source": [
    "## II) Passage matrice vers liste"
   ]
  },
  {
   "cell_type": "code",
   "execution_count": 1,
   "metadata": {},
   "outputs": [],
   "source": [
    "def matrice_vers_liste(matrice):\n",
    "    liste = []\n",
    "    for i in range(len(matrice)):\n",
    "        voisins = []\n",
    "        for j in range(len(matrice[i])):\n",
    "            if matrice[i][j] == 1:  # Vérifie si la connexion existe\n",
    "                voisins.append(j)\n",
    "        liste.append(voisins)\n",
    "    return liste"
   ]
  },
  {
   "cell_type": "code",
   "execution_count": 2,
   "metadata": {},
   "outputs": [
    {
     "name": "stdout",
     "output_type": "stream",
     "text": [
      "[[1, 2], [0, 2, 3], [0, 1, 3], [1, 2]]\n"
     ]
    }
   ],
   "source": [
    "m = [[0, 1, 1, 0], [1, 0, 1, 1], [1, 1, 0, 1], [0, 1, 1, 0]]\n",
    "print(matrice_vers_liste(m))"
   ]
  },
  {
   "cell_type": "markdown",
   "metadata": {},
   "source": [
    "## III) Passage dictionnaire vers matrice"
   ]
  },
  {
   "cell_type": "code",
   "execution_count": 3,
   "metadata": {},
   "outputs": [],
   "source": [
    "def dict_vers_matrice(dictionnaire):\n",
    "    n = len(dictionnaire)\n",
    "    matrice = [[0] * n for _ in range(n)] \n",
    "    for sommet, successeurs in dictionnaire.items():\n",
    "        for successeur in successeurs:\n",
    "            matrice[sommet][successeur] = 1 \n",
    "    return matrice"
   ]
  },
  {
   "cell_type": "code",
   "execution_count": 4,
   "metadata": {},
   "outputs": [
    {
     "name": "stdout",
     "output_type": "stream",
     "text": [
      "[[0, 1, 1, 0], [1, 0, 1, 1], [1, 1, 0, 1], [0, 1, 1, 0]]\n"
     ]
    }
   ],
   "source": [
    "dico = {0: [1, 2], 1: [0, 2, 3], 2: [0, 1, 3], 3: [1, 2]}\n",
    "print(dict_vers_matrice(dico))"
   ]
  },
  {
   "cell_type": "markdown",
   "metadata": {},
   "source": [
    "## IV) Passage liste vers matrice"
   ]
  },
  {
   "cell_type": "code",
   "execution_count": 5,
   "metadata": {},
   "outputs": [],
   "source": [
    "def liste_vers_matrice(liste):\n",
    "    n = len(liste)\n",
    "    matrice = [n * [0] for i in range(n)]\n",
    "    for sommet in range(n):\n",
    "        for successeur in liste[sommet]:\n",
    "            matrice[sommet][successeur] = 1\n",
    "    return matrice"
   ]
  },
  {
   "cell_type": "code",
   "execution_count": 6,
   "metadata": {},
   "outputs": [
    {
     "name": "stdout",
     "output_type": "stream",
     "text": [
      "[[0, 1, 1, 0], [1, 0, 1, 1], [1, 1, 0, 1], [0, 1, 1, 0]]\n"
     ]
    }
   ],
   "source": [
    "# Test de la fonction\n",
    "liste = [[1, 2], [0, 2, 3], [0, 1, 3], [1, 2]]\n",
    "print(liste_vers_matrice(liste))"
   ]
  }
 ],
 "metadata": {
  "kernelspec": {
   "display_name": "Python 3",
   "language": "python",
   "name": "python3"
  },
  "language_info": {
   "codemirror_mode": {
    "name": "ipython",
    "version": 3
   },
   "file_extension": ".py",
   "mimetype": "text/x-python",
   "name": "python",
   "nbconvert_exporter": "python",
   "pygments_lexer": "ipython3",
   "version": "3.undefined.undefined"
  }
 },
 "nbformat": 4,
 "nbformat_minor": 2
}
