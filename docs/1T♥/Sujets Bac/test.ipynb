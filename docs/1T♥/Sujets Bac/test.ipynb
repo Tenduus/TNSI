{
 "cells": [
  {
   "cell_type": "code",
   "execution_count": 23,
   "metadata": {},
   "outputs": [],
   "source": [
    "def tri_insertion(tab):\n",
    "    '''Trie le tableau tab par ordre croissant\n",
    "    en appliquant l'algorithme de tri par insertion'''\n",
    "    n = len(tab)\n",
    "    for i in range(1, n):\n",
    "        valeur_insertion = tab[i]\n",
    "        # la variable j sert à déterminer \n",
    "        # où placer la valeur à ranger\n",
    "        j = i \n",
    "        # tant qu'on n'a pas trouvé la place de l'élément à\n",
    "        # insérer on décale les valeurs du tableau vers la droite\n",
    "        while j > 0 and valeur_insertion < tab[j-1]: \n",
    "            tab[j] = tab[j-1]\n",
    "            j -= 1\n",
    "        tab[j] = valeur_insertion"
   ]
  },
  {
   "cell_type": "code",
   "execution_count": 24,
   "metadata": {},
   "outputs": [
    {
     "data": {
      "text/plain": [
       "[9, 12, 23, 98, 104, 131]"
      ]
     },
     "execution_count": 24,
     "metadata": {},
     "output_type": "execute_result"
    }
   ],
   "source": [
    "tab = [98, 12, 104, 23, 131, 9]\n",
    "tri_insertion(tab)\n",
    "tab"
   ]
  }
 ],
 "metadata": {
  "kernelspec": {
   "display_name": "Python 3",
   "language": "python",
   "name": "python3"
  },
  "language_info": {
   "codemirror_mode": {
    "name": "ipython",
    "version": 3
   },
   "file_extension": ".py",
   "mimetype": "text/x-python",
   "name": "python",
   "nbconvert_exporter": "python",
   "pygments_lexer": "ipython3",
   "version": "3.10.8"
  }
 },
 "nbformat": 4,
 "nbformat_minor": 2
}
